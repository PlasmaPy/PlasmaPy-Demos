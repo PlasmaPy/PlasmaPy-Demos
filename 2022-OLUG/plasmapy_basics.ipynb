{
 "cells": [
  {
   "cell_type": "markdown",
   "id": "887ec47c",
   "metadata": {},
   "source": [
    "If this notebook is being run on Google Colab, install the required packages before anything else."
   ]
  },
  {
   "cell_type": "code",
   "execution_count": null,
   "id": "cfbc1b48",
   "metadata": {},
   "outputs": [],
   "source": [
    "if 'google.colab' in str(get_ipython()):\n",
    "    !pip install plasmapy==0.7.0"
   ]
  },
  {
   "cell_type": "markdown",
   "id": "402e82d8",
   "metadata": {},
   "source": [
    "# PlasmaPy Basics Tutorial"
   ]
  },
  {
   "cell_type": "code",
   "execution_count": null,
   "id": "8e971313",
   "metadata": {
    "scrolled": true
   },
   "outputs": [],
   "source": [
    "import astropy.units as u\n",
    "from plasmapy.formulary import parameters\n",
    "from plasmapy.particles import (Particle, \n",
    "                                nuclear_reaction_energy, half_life, \n",
    "                                common_isotopes, known_isotopes, stable_isotopes)"
   ]
  },
  {
   "cell_type": "markdown",
   "id": "c3ad90be",
   "metadata": {},
   "source": [
    "[PlasmaPy documentation]:https://docs.plasmapy.org/en/stable/examples.html\n",
    "\n",
    "This notebook provides some simple examples of basic PlasmaPy functionality. Many more example notebooks can be found in the [PlasmaPy documentation]"
   ]
  },
  {
   "cell_type": "markdown",
   "id": "9b264978",
   "metadata": {},
   "source": [
    "## The formulary"
   ]
  },
  {
   "cell_type": "markdown",
   "id": "bf855384",
   "metadata": {},
   "source": [
    "[PlasmaPy formulary]: https://docs.plasmapy.org/en/stable/formulary/index.html\n",
    "The [PlasmaPy formulary] contains a number of basic plasma physics equations, all of which use astropy units"
   ]
  },
  {
   "cell_type": "code",
   "execution_count": null,
   "id": "0bb0e211",
   "metadata": {},
   "outputs": [],
   "source": [
    "n_e = 1e21*u.cm**-3\n",
    "print(parameters.plasma_frequency(n_e, particle='e'))"
   ]
  },
  {
   "cell_type": "markdown",
   "id": "e96bc1df",
   "metadata": {},
   "source": [
    "## The Particle class"
   ]
  },
  {
   "cell_type": "markdown",
   "id": "680b5b7a",
   "metadata": {},
   "source": [
    "[PlasmaPy Particle class]:https://docs.plasmapy.org/en/stable/particles/index.html\n",
    "The [PlasmaPy Particle class] makes fundamental particle data easily accessible."
   ]
  },
  {
   "cell_type": "code",
   "execution_count": null,
   "id": "018b560b",
   "metadata": {},
   "outputs": [],
   "source": [
    "p = Particle(\"C-12 5+\")\n",
    "print(p.mass_number)\n",
    "print(p.charge_number)"
   ]
  },
  {
   "cell_type": "code",
   "execution_count": null,
   "id": "d4d7d189",
   "metadata": {},
   "outputs": [],
   "source": [
    "# What is the binding energy for this particle?\n",
    "print(p.binding_energy.to(u.MeV))"
   ]
  },
  {
   "cell_type": "code",
   "execution_count": null,
   "id": "bb8f8171",
   "metadata": {},
   "outputs": [],
   "source": [
    "# This function can calculate the energy released by a certain interaction\n",
    "# Informative errors will be generated if the interaction specified is not possible\n",
    "print(nuclear_reaction_energy(reactants=['D', 'T'], products = ['alpha', 'n']).to(u.MeV))"
   ]
  },
  {
   "cell_type": "code",
   "execution_count": null,
   "id": "0e337a6e",
   "metadata": {},
   "outputs": [],
   "source": [
    "print(half_life(Particle('T')).to(u.yr))"
   ]
  },
  {
   "cell_type": "code",
   "execution_count": null,
   "id": "cd5bf572",
   "metadata": {},
   "outputs": [],
   "source": [
    "# What are isotopes of Hydrogen, and which of them are abundant or stable?\n",
    "print(known_isotopes(Particle('H')))\n",
    "print(common_isotopes(Particle('H')))\n",
    "print(stable_isotopes(Particle('H')))"
   ]
  }
 ],
 "metadata": {
  "kernelspec": {
   "display_name": "Python 3",
   "language": "python",
   "name": "python3"
  },
  "language_info": {
   "codemirror_mode": {
    "name": "ipython",
    "version": 3
   },
   "file_extension": ".py",
   "mimetype": "text/x-python",
   "name": "python",
   "nbconvert_exporter": "python",
   "pygments_lexer": "ipython3",
   "version": "3.8.12"
  }
 },
 "nbformat": 4,
 "nbformat_minor": 5
}
