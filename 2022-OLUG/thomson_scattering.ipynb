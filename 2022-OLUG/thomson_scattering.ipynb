{
 "cells": [
  {
   "cell_type": "markdown",
   "id": "887ec47c",
   "metadata": {},
   "source": [
    "If this notebook is being run on Google Colab, install the required packages before anything else."
   ]
  },
  {
   "cell_type": "code",
   "execution_count": null,
   "id": "cfbc1b48",
   "metadata": {},
   "outputs": [],
   "source": [
    "if 'google.colab' in str(get_ipython()):\n",
    "    !pip install plasmapy==0.7.0"
   ]
  },
  {
   "cell_type": "markdown",
   "id": "402e82d8",
   "metadata": {},
   "source": [
    "# PlasmaPy Thomson Scattering Tutorial"
   ]
  },
  {
   "cell_type": "code",
   "execution_count": null,
   "id": "8e971313",
   "metadata": {
    "scrolled": true
   },
   "outputs": [],
   "source": [
    "%matplotlib inline\n",
    "\n",
    "import astropy.units as u\n",
    "import matplotlib.pyplot as plt\n",
    "import numpy as np\n",
    "\n",
    "from plasmapy.diagnostics import thomson\n",
    "\n",
    "# This function makes a plot of the Thomson scattering spectrum\n",
    "def plot_result(wavelengths, alpha, Skw, iaw_range=np.array([528,536])*u.nm):\n",
    "    # Estimate the max of the EPW signal for plotting\n",
    "    a = np.argmin(np.abs(iaw_range[0]-wavelengths))\n",
    "    b = np.argmin(np.abs(iaw_range[1]-wavelengths))\n",
    "    iaw_max = np.max(Skw.value)\n",
    "    epw_max = max([np.max(Skw[0:a].value), np.max(Skw[b:].value)])\n",
    "    \n",
    "    fig, ax = plt.subplots(ncols=2, figsize=(12, 6))\n",
    "    fig.subplots_adjust(wspace=0.2)\n",
    "    \n",
    "    if alpha > 1:\n",
    "        fig.suptitle(f\"alpha = {alpha:.1f} (collective scattering)\")\n",
    "    else:\n",
    "        fig.suptitle(f\"alpha = {alpha:.1f} (noncollective scattering)\")\n",
    "\n",
    "    for x in ax:\n",
    "        x.set_xlabel(\"Wavelength (nm)\")\n",
    "        x.set_ylabel(\"Skw\")\n",
    "        x.axvline(x=probe_wavelength.value, color=\"red\", label=\"Probe wavelength\")\n",
    "    ax[0].tick_params(axis='both', which='major', labelsize=12)\n",
    "    ax[0].set_xlim(520, 545)\n",
    "    ax[0].set_ylim(0, 1.2*epw_max)\n",
    "    ax[0].set_title(\"Electron Plasma Wave\", fontsize=14)\n",
    "    ax[0].plot(wavelengths.value, Skw)\n",
    "    ax[0].legend(loc='upper left', fontsize=12)\n",
    "\n",
    "    ax[1].tick_params(axis='both', which='major', labelsize=12)\n",
    "    ax[1].set_xlim(530, 534)\n",
    "    ax[1].set_ylim(0, 1.2*iaw_max)\n",
    "    ax[1].set_title(\"Ion Acoustic Wave\", fontsize=14)\n",
    "    ax[1].plot(wavelengths.value, Skw)\n",
    "    ax[1].legend(loc='upper left', fontsize=12);\n",
    "\n"
   ]
  },
  {
   "cell_type": "markdown",
   "id": "c3ad90be",
   "metadata": {},
   "source": [
    "[PlasmaPy documentation]:https://docs.plasmapy.org/en/latest/ad/diagnostics/thomson.html\n",
    "[spectral_density]: https://docs.plasmapy.org/en/latest/api/plasmapy.diagnostics.thomson.spectral_density.html#plasmapy.diagnostics.thomson.spectral_density\n",
    "\n",
    "This notebook provides a simple example using the [spectral_density] function in PlasmaPy to model Thomson scattering. More examples and documentation can be found in the [PlasmaPy documentation]\n",
    "\n",
    "\n",
    "The first step is to define the scattering geometry, the wavelength of the probe laser, and the wavelength range of the detector"
   ]
  },
  {
   "cell_type": "code",
   "execution_count": null,
   "id": "2fc06392",
   "metadata": {},
   "outputs": [],
   "source": [
    "# The probe wavelength can in theory be anything, but in practice integer frequency multiples of the Nd:YAG wavelength\n",
    "# 1064 nm are used (532 corresponds to a frequency-doubled probe beam from such a laser).\n",
    "probe_wavelength = 532 * u.nm\n",
    "\n",
    "# Array of wavelengths over which to calculate the spectral distribution\n",
    "\n",
    "wavelengths = (\n",
    "    np.linspace(probe_wavelength.value - 30, probe_wavelength.value + 30, num=5000)\n",
    "    * u.nm\n",
    ")\n",
    "\n",
    "\n",
    "# The scattering geometry is defined by unit vectors for the orientation of the probe laser beam (probe_n) and\n",
    "# the path from the scattering volume (where the measurement is made) to the detector (scatter_n).\n",
    "# These can be setup for any experimental geometry - this geometry is typical on the OMEGA laser facility.\n",
    "probe_vec = np.array([1, 0, 0])\n",
    "scattering_angle = np.deg2rad(63)\n",
    "scatter_vec = np.array([np.cos(scattering_angle), np.sin(scattering_angle), 0])"
   ]
  },
  {
   "cell_type": "markdown",
   "id": "bf855384",
   "metadata": {},
   "source": [
    "Now we will specify a set of plasma parameters, call the `spectral_density` function, and plot the results"
   ]
  },
  {
   "cell_type": "code",
   "execution_count": null,
   "id": "0bb0e211",
   "metadata": {},
   "outputs": [],
   "source": [
    "n = 2e17 * u.cm ** -3\n",
    "Te = 12 * u.eV\n",
    "Ti = 10 * u.eV\n",
    "ion_species = 'H+'\n",
    "\n",
    "alpha, Skw = thomson.spectral_density(\n",
    "    wavelengths,\n",
    "    probe_wavelength,\n",
    "    n,\n",
    "    Te,\n",
    "    Ti,\n",
    "    ion_species = ion_species,\n",
    "    probe_vec=probe_vec,\n",
    "    scatter_vec=scatter_vec,\n",
    ")\n",
    "\n",
    "plot_result(wavelengths, alpha, Skw)"
   ]
  },
  {
   "cell_type": "markdown",
   "id": "e96bc1df",
   "metadata": {},
   "source": [
    "The spectral density function can also include multiple populations of ions and electrons, each of which can have a separate drift velocity in three dimensions. Here's a more complex example."
   ]
  },
  {
   "cell_type": "code",
   "execution_count": null,
   "id": "e8cebfb9",
   "metadata": {},
   "outputs": [],
   "source": [
    "n = 2e17 * u.cm ** -3\n",
    "\n",
    "efract = np.array([0.5, 0.5])\n",
    "Te = np.array([20, 6]) * u.eV\n",
    "electron_vel = np.array([[0,0,0], [1000, 0, 0]])*u.km/u.s\n",
    "\n",
    "\n",
    "ifract = np.array([0.2, 0.8])\n",
    "ion_species = [\"He-4 1+\", \"C-12 5+\"]\n",
    "Ti = np.array([10, 15]) * u.eV\n",
    "ion_vel = np.array([[300,0,0], [-900, 0, 0]])*u.km/u.s\n",
    "\n",
    "alpha, Skw = thomson.spectral_density(\n",
    "    wavelengths,\n",
    "    probe_wavelength,\n",
    "    n,\n",
    "    Te,\n",
    "    Ti,\n",
    "    efract = efract,\n",
    "    ifract = ifract, \n",
    "    ion_species = ion_species,\n",
    "    electron_vel=electron_vel,\n",
    "    ion_vel=ion_vel,\n",
    "    probe_vec=probe_vec,\n",
    "    scatter_vec=scatter_vec,\n",
    ")\n",
    "\n",
    "plot_result(wavelengths, alpha, Skw)"
   ]
  },
  {
   "cell_type": "code",
   "execution_count": null,
   "id": "075e51c3",
   "metadata": {},
   "outputs": [],
   "source": []
  }
 ],
 "metadata": {
  "kernelspec": {
   "display_name": "Python 3 (ipykernel)",
   "language": "python",
   "name": "python3"
  },
  "language_info": {
   "codemirror_mode": {
    "name": "ipython",
    "version": 3
   },
   "file_extension": ".py",
   "mimetype": "text/x-python",
   "name": "python",
   "nbconvert_exporter": "python",
   "pygments_lexer": "ipython3",
   "version": "3.9.0"
  }
 },
 "nbformat": 4,
 "nbformat_minor": 5
}
