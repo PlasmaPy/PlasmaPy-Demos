{
 "cells": [
  {
   "cell_type": "markdown",
   "id": "4efaa677",
   "metadata": {},
   "source": [
    "# Studying Single Particle Drifts with Charged Particle Tracing"
   ]
  },
  {
   "cell_type": "markdown",
   "id": "6abc1855",
   "metadata": {},
   "source": [
    "## Table of Contents\n",
    "* Introduction to Charged Particle Tracing\n",
    "* The E x B Drift\n",
    "* The GradB Drift\n",
    "* The Curvature Drift"
   ]
  },
  {
   "cell_type": "code",
   "execution_count": null,
   "id": "5b638248",
   "metadata": {},
   "outputs": [],
   "source": [
    "import sys\n",
    "\n",
    "if 'google.colab' in str(get_ipython()):\n",
    "    if 'plasmapy' not in sys.modules:\n",
    "        !pip install plasmapy==2023.5.1 requests=2.27.1\n",
    "    \n",
    "%matplotlib inline\n",
    "\n",
    "# If running locally, uncomment this line to allow dynamic plots\n",
    "#%matplotlib notebook\n",
    "\n",
    "import numpy as np\n",
    "import astropy.units as u\n",
    "import astropy.constants as const\n",
    "\n",
    "import matplotlib.pyplot as plt\n",
    "\n",
    "from plasmapy.particles import Particle\n",
    "from plasmapy import formulary\n",
    "from plasmapy.simulation.particle_integrators import boris_push"
   ]
  },
  {
   "cell_type": "markdown",
   "id": "01fe6a8c",
   "metadata": {},
   "source": [
    "# Introduction to Charged Particle Tracking"
   ]
  },
  {
   "cell_type": "markdown",
   "id": "5d290779",
   "metadata": {},
   "source": [
    "A charged particle tracking code (or 'particle tracker') is a simulation tool that takes one or more particles (with defined initial conditions) and tracks their path through a space with defined properties like electric and magnetic fields. This simulation is performed iteratively, alternating between estimating the fields acting on each particle and then using those fields to calculate and update their acceleration, velocity, and position. In the first section of this notebook, we will write a basic particle tracing algorithm and then use it to visualize the gyration of a proton in a constant magnetic field. \n",
    "\n",
    "A very basic particle tracker could iteratively calculate the velocity and position of a particle as \n",
    "\n",
    "$ \\large F_i = qE_i + q \\vec v \\times \\vec B_i$\n",
    "\n",
    "$ \\large v_{i+1} = v_i + F_i/m \\text{d}t$\n",
    "\n",
    "$ \\large x_{i+1} = x_i + v_i \\text{d}t$\n",
    "\n",
    "where $E_i$ and $B_i$ are the electric and magnetic fields acting on the particle at the $i$th timestep.\n",
    "\n",
    "When coded, this function looks like this:"
   ]
  },
  {
   "cell_type": "code",
   "execution_count": null,
   "id": "373e2885",
   "metadata": {},
   "outputs": [],
   "source": [
    "def track_particle_basic(E0, B0, x0, v0, particle, times):\n",
    "    \"\"\"\n",
    "    This function tracks a single particle with intial position x0 and velocity v0 through the times in the\n",
    "    provided array of times. The electric and magnetic fields (E0, B0) are assumed to be constant in space. \n",
    "    \"\"\"\n",
    "\n",
    "    # Initialze an array to save the trajectory and particle velocity\n",
    "    x = np.zeros((times.size+1, 3))*u.m\n",
    "    v = np.zeros((times.size+1, 3))*u.m/u.s\n",
    "    # Set the first entry to the initial position/velocity of the particle\n",
    "    x[0,:] = x0\n",
    "    v[0,:] = v0\n",
    "\n",
    "    # Calculate the simulation timestep\n",
    "    dt = np.mean(np.gradient(times)).to(u.s)\n",
    "    \n",
    "    # Loop over all of the times in the times array\n",
    "    for i, t in enumerate(times):\n",
    "        # Calculate the force on the particle\n",
    "        F = particle.charge * (E0 + np.cross(v[i,:], B0) )\n",
    "        \n",
    "        # Update the the particle velocity\n",
    "        v[i+1,:] = v[i,:] + F/particle.mass*dt\n",
    "        \n",
    "        # Calculate the new particle position, store in the next element of the array\n",
    "        x[i+1,:] = x[i,:] + v[i,:]*dt\n",
    "        \n",
    "    return x,v"
   ]
  },
  {
   "cell_type": "markdown",
   "id": "9d505faa",
   "metadata": {},
   "source": [
    "Let's test this tracker with a simple example: a proton gyrating in a constant magnetic field. We'll put the magnetic field in the Z direction. Let's give the particle some velocity along the field (so the orbits don't overlap), but also some perpendicualar velocity so that it gyrates."
   ]
  },
  {
   "cell_type": "code",
   "execution_count": null,
   "id": "8e4f37f1",
   "metadata": {},
   "outputs": [],
   "source": [
    "# Define the vector E and B fields\n",
    "E0 = np.array([0,0,0]) * u.V / u.m\n",
    "B0 = np.array([0,0,5])*u.T\n",
    "\n",
    "# Define the particle (includes it's mass, charge etc.) \n",
    "# and it's position and velocity\n",
    "particle = Particle('p+')\n",
    "v0 = np.array([0.5,0,1])*u.m/u.s\n",
    "x0 = np.array([0,0,0])*u.m"
   ]
  },
  {
   "cell_type": "markdown",
   "id": "8d5f0264",
   "metadata": {},
   "source": [
    "How long do we want to run the tracker for? \n",
    "\n",
    "If we want to visualize a number of gyrations in the magnetic field, then we should run it for several multiples of the gyroperiod! \n",
    "\n",
    "Similarly, if we want to resolve the gyrations (i.e. have many timesteps within one orbit), then the separation between times should be less than the gyroperiod. "
   ]
  },
  {
   "cell_type": "code",
   "execution_count": null,
   "id": "a8ded58b",
   "metadata": {},
   "outputs": [],
   "source": [
    "fci = (formulary.frequencies.gyrofrequency(np.linalg.norm(B0), particle)/2/np.pi/u.rad).to(1/u.s)\n",
    "print(f\"Gyroperiod: {(1/fci).to(u.ns).value:.1f} ns\")"
   ]
  },
  {
   "cell_type": "code",
   "execution_count": null,
   "id": "2ebf8831",
   "metadata": {},
   "outputs": [],
   "source": [
    "dt = (0.01/fci).to(u.ns).value\n",
    "times = np.arange(0, (10/fci).to(u.ns).value, dt)*u.ns # Run for 10 gyroperiods, with 20 points per gyroperiod\n",
    "print(f\"Simulation runs for {np.max(times).to(u.ns).value:.1f} ns in steps of {dt:.2f} ns\")"
   ]
  },
  {
   "cell_type": "markdown",
   "id": "43773d5a",
   "metadata": {},
   "source": [
    "Now we can put these values into the function to track the particle"
   ]
  },
  {
   "cell_type": "code",
   "execution_count": null,
   "id": "ff973ec8",
   "metadata": {},
   "outputs": [],
   "source": [
    "x,v = track_particle_basic(E0, B0, x0, v0, particle, times)"
   ]
  },
  {
   "cell_type": "markdown",
   "id": "5f0e79b9",
   "metadata": {},
   "source": [
    "The following two functions will visualize the results.\n",
    "\n",
    "*Note: If you're running this Jupyter notebook locally the 3D plots should be interactive, so you can click and drag to rotate the view. If you are running this notebook in the cloud (for example on Google Colaboratory) this may not work.*"
   ]
  },
  {
   "cell_type": "code",
   "execution_count": null,
   "id": "fd868cf8",
   "metadata": {},
   "outputs": [],
   "source": [
    "def plot3D(x, view=None):\n",
    "    fig = plt.figure(figsize=(6, 6))\n",
    "    ax = fig.add_subplot(111, projection=\"3d\")\n",
    "    \n",
    "    # Set the initial view angle\n",
    "    if view is not None:\n",
    "        ax.view_init(*view)\n",
    "\n",
    "    # Plot the orbit\n",
    "    ax.plot(x[:,0].to(u.nm).value, x[:,1].to(u.nm).value, x[:,2].to(u.nm).value, label=\"Trajectory\")\n",
    "    \n",
    "    # Plot the initial position of the particle\n",
    "    ax.scatter(x[0,0].to(u.nm).value, x[0,1].to(u.nm).value, x[0,2].to(u.nm).value, \n",
    "               label='Initial Position', color='orange')\n",
    "   \n",
    "    ax.set_xlabel(\"X (nm)\")\n",
    "    ax.set_ylabel(\"Y (nm)\")\n",
    "    ax.set_zlabel(\"Z (nm)\")\n",
    "    ax.legend();\n",
    "    \n",
    "    return ax\n",
    "\n",
    "# The view keyword specifies the (elevation angle, azimuthal angle, roll angle) in degrees\n",
    "plot3D(x, view=(30,45,0));"
   ]
  },
  {
   "cell_type": "markdown",
   "id": "ecb8cc2b",
   "metadata": {},
   "source": [
    "Wait - that doesn't look right, does it? The gyroradius should be constant, so the circles should all be the same size! Instead, we see them increasing in time.\n",
    "\n",
    "The problem is that our simple particle tracker is not conserving energy, which we can see by plotting the kinetic energy of the particle as a function of time."
   ]
  },
  {
   "cell_type": "code",
   "execution_count": null,
   "id": "d9217189",
   "metadata": {},
   "outputs": [],
   "source": [
    "def plotKE(times, particle, v):\n",
    "    KE = 0.5*particle.mass*np.linalg.norm(v, axis=-1)**2\n",
    "    \n",
    "    fig, ax = plt.subplots()\n",
    "    ax.plot(times.to(u.ns).value, KE.to(u.J).value[:-1])\n",
    "    ax.set_title(\"Kinetic Energy vs. Time\")\n",
    "    ax.set_xlabel(\"Time (ns)\")\n",
    "    ax.set_ylabel(\"Kinetic Energy (J)\");\n",
    "\n",
    "plotKE(times, particle, v)"
   ]
  },
  {
   "cell_type": "markdown",
   "id": "e91338f7",
   "metadata": {},
   "source": [
    "Since a magnetic field alone can do not work on the particle, the particle's energy should be constant, not increasing!\n",
    "\n",
    "It turns out$^1$ that the problem is that updating the particle velocity and position within one timestep is not precise enough. Instead, we need to use a more advanced algorithm called the Boris Push. This function is implemented in PlasmaPy, so we can just import it into a new tracking function.\n",
    "\n",
    "\n",
    "*$^1$For more details, see Birdsall & Langdon \"Plasma Physics via Computer Simulations\" (2004)*"
   ]
  },
  {
   "cell_type": "code",
   "execution_count": null,
   "id": "5e3aad9a",
   "metadata": {},
   "outputs": [],
   "source": [
    "def track_particle_boris(E0, B0, x0, v0, particle, times):\n",
    "    \"\"\"\n",
    "    This function tracks a single particle with intial position x0 and velocity v0 through the times in the\n",
    "    provided array of times. The electric and magnetic fields (E0, B0) are assumed to be constant in space. \n",
    "    \"\"\"\n",
    "\n",
    "    # Initialze an array to save the trajectory and particle velocity\n",
    "    x = np.zeros((times.size+1, 3))*u.m\n",
    "    v = np.zeros((times.size+1, 3))*u.m/u.s\n",
    "    # Set the first entry to the initial position/velocity of the particle\n",
    "    x[0,:] = x0\n",
    "    v[0,:] = v0\n",
    "\n",
    "    # Calculate the simulation timestep\n",
    "    dt = np.mean(np.gradient(times)).to(u.s)\n",
    "    \n",
    "    # Loop over all of the times in the times array\n",
    "    for i, t in enumerate(times):\n",
    "        # The Boris push function advances the particles in a way that conserves kinetic energy\n",
    "        # This function is part of PlasmaPy\n",
    "        _x = x[i,:].to(u.m).value\n",
    "        _v = v[i,:].to(u.m/u.s).value\n",
    "        boris_push(_x, \n",
    "                   _v, \n",
    "                   np.array([B0.to(u.T).value,]),\n",
    "                   np.array([E0.to(u.V/u.m).value,]),\n",
    "                   particle.charge.to(u.C).value,\n",
    "                   particle.mass.to(u.kg).value,\n",
    "                   dt.to(u.s).value)\n",
    "        x[i+1,:]=_x*u.m\n",
    "        v[i+1, :] =_v*u.m/u.s\n",
    "        \n",
    "    return x,v"
   ]
  },
  {
   "cell_type": "markdown",
   "id": "c9cfda04",
   "metadata": {},
   "source": [
    "Now let's try running the same particle through the new tracker."
   ]
  },
  {
   "cell_type": "code",
   "execution_count": null,
   "id": "a33676f0",
   "metadata": {},
   "outputs": [],
   "source": [
    "x,v = track_particle_boris(E0, B0, x0, v0, particle, times)\n",
    "plot3D(x, view=(30,45,0))\n",
    "plotKE(times, particle, v);"
   ]
  },
  {
   "cell_type": "markdown",
   "id": "47e71a57",
   "metadata": {},
   "source": [
    "Much better! The particle energy is now conserved, and as a result the gyrorbits remain the same size.\n",
    "\n",
    "Before we proceed to some more complex examples, we need to add one more feature to the particle tracer: the ability to handle fields that vary in space. In order to define these fields, we first need to define a grid of spatial coordinates. \n",
    "\n",
    "How big should we make the grid? We want the particle to stay on the grid throughout the entire gyration, so the x and y axes need to be larger than the Larmor radius."
   ]
  },
  {
   "cell_type": "code",
   "execution_count": null,
   "id": "58d8b2c5",
   "metadata": {},
   "outputs": [],
   "source": [
    "rLarmor = formulary.lengths.gyroradius(np.linalg.norm(B0), particle, Vperp=v0[0]) \n",
    "print(f\"rLarmor: {rLarmor.to(u.nm).value:.2f} nm\")"
   ]
  },
  {
   "cell_type": "markdown",
   "id": "9e237d98",
   "metadata": {},
   "source": [
    "In the z-direction, we know that the final z position of the particle will be $v_z t_{max}$, so we'd better make the array a little longer than that so the particle doesn't leave the grid."
   ]
  },
  {
   "cell_type": "code",
   "execution_count": null,
   "id": "26b0bf33",
   "metadata": {},
   "outputs": [],
   "source": [
    "zmax = (v0[2]*times[-1]).to(u.nm)\n",
    "print(f\"Zmax: {zmax.to(u.nm).value:.2f} nm\")"
   ]
  },
  {
   "cell_type": "code",
   "execution_count": null,
   "id": "faf0c095",
   "metadata": {},
   "outputs": [],
   "source": [
    "xaxis = np.linspace(-1.5*rLarmor, 1.5*rLarmor, num=100)\n",
    "yaxis = np.linspace(-1.5*rLarmor, 1.5*rLarmor, num=100)\n",
    "zaxis = np.linspace(0*u.nm, 1.2*zmax, num=100)\n",
    "X, Y, Z = np.meshgrid(xaxis, yaxis, zaxis, indexing='ij')"
   ]
  },
  {
   "cell_type": "markdown",
   "id": "a130c396",
   "metadata": {},
   "source": [
    "Now fields can be defined as vector arrays that have a value at each vertex of the grid. Let's start by re-creating the example of a constant B field and zero E field. \n",
    "\n",
    "Each of these arrays has the shape `E.shape = (n_xpos, n_ypos, n_zpos, 3)`"
   ]
  },
  {
   "cell_type": "code",
   "execution_count": null,
   "id": "6a890f1f",
   "metadata": {},
   "outputs": [],
   "source": [
    "# Create grids of fields to go on the spatial grid\n",
    "E = np.zeros((*X.shape, 3))*u.V/u.m\n",
    "\n",
    "B = np.zeros((*X.shape, 3))*u.T\n",
    "B[:,:,:, 2] = 5*u.T"
   ]
  },
  {
   "cell_type": "markdown",
   "id": "f608c3fe",
   "metadata": {},
   "source": [
    "Then finally we need to add the grid to the particle tracker and add some lines to estimate the fields acting on the particle at a given position. \n",
    "\n",
    "The approximation of a value from a discrete grid at a given continuous position like this is called interpolation, and there are many sophisticated algorithms for doing it. For the sake of simplicity, we will use the \"nearest neighbor\" algorithm, which just assumes that the fields on the particle are equal to those on the nearest grid vertex. "
   ]
  },
  {
   "cell_type": "code",
   "execution_count": null,
   "id": "a5f9e0b2",
   "metadata": {},
   "outputs": [],
   "source": [
    "def track_particle(xaxis, yaxis, zaxis, E, B, x0, v0, particle, times):\n",
    "    \"\"\"\n",
    "    This function tracks a single particle with intial position x0 and velocity v0 through the times in the\n",
    "    provided array of times. The electric and magnetic fields (E0, B0) are assumed to be constant in space. \n",
    "    \"\"\"\n",
    "\n",
    "    # Initialze an array to save the trajectory and particle velocity\n",
    "    x = np.zeros((times.size+1, 3))*u.m\n",
    "    v = np.zeros((times.size+1, 3))*u.m/u.s\n",
    "    # Set the first entry to the initial position/velocity of the particle\n",
    "    x[0,:] = x0\n",
    "    v[0,:] = v0\n",
    "    \n",
    "    \n",
    "\n",
    "    # Calculate the simulation timestep\n",
    "    dt = np.mean(np.gradient(times)).to(u.s)\n",
    "    \n",
    "    # Loop over all of the times in the times array\n",
    "    for i, t in enumerate(times):\n",
    "        \n",
    "        # Locate the nearest grid cell to the particle ('nearest neighbor' interpolation)\n",
    "        xi = np.argmin(np.abs(x[i,0] - xaxis))\n",
    "        yi = np.argmin(np.abs(x[i,1] - yaxis))\n",
    "        zi = np.argmin(np.abs(x[i,2] - zaxis))\n",
    "        \n",
    "        # Get the E and B fields at the current particle location\n",
    "        _E = np.array([E[xi, yi, zi, :].to(u.V/u.m).value,])\n",
    "        _B = np.array([B[xi, yi, zi, :].to(u.T).value,])\n",
    "        \n",
    "        # The Boris push function advances the particles in a way that conserves kinetic energy\n",
    "        # This function is part of PlasmaPy\n",
    "        _x = x[i,:].to(u.m).value\n",
    "        _v = v[i,:].to(u.m/u.s).value\n",
    "        boris_push(_x, _v, _B, _E,\n",
    "                   particle.charge.to(u.C).value,\n",
    "                   particle.mass.to(u.kg).value,\n",
    "                   dt.to(u.s).value)\n",
    "        x[i+1,:]=_x*u.m\n",
    "        v[i+1, :] =_v*u.m/u.s\n",
    "        \n",
    "    return x,v"
   ]
  },
  {
   "cell_type": "markdown",
   "id": "461bdce6",
   "metadata": {},
   "source": [
    "Running the new tracker gives us the same results as before (as expected)."
   ]
  },
  {
   "cell_type": "code",
   "execution_count": null,
   "id": "8c1bda9f",
   "metadata": {},
   "outputs": [],
   "source": [
    "x,v = track_particle(xaxis, yaxis, zaxis, E, B, x0, v0, particle, times)\n",
    "plot3D(x, view=(30,45,0));"
   ]
  },
  {
   "cell_type": "markdown",
   "id": "bbf11a9d",
   "metadata": {},
   "source": [
    "We will use this final tracker function for the remainder of the examples in this notebook."
   ]
  },
  {
   "cell_type": "markdown",
   "id": "88822aa0",
   "metadata": {},
   "source": [
    "# The ExB Drift"
   ]
  },
  {
   "cell_type": "markdown",
   "id": "863a8d28",
   "metadata": {},
   "source": [
    "The ExB drift occurs when a charged particle moves through perpendicular E and B fields. In this example, we will calculate the ExB velocity for the particle defined below."
   ]
  },
  {
   "cell_type": "code",
   "execution_count": null,
   "id": "ed3333a0",
   "metadata": {},
   "outputs": [],
   "source": [
    "# Define strengths for the E and B fields\n",
    "E0 = 0.1 * u.V / u.m\n",
    "B0 = 5*u.T\n",
    "particle = Particle('p+')"
   ]
  },
  {
   "cell_type": "markdown",
   "id": "1822fe17",
   "metadata": {},
   "source": [
    "We can use a function from the PlasmaPy Formulary module to calculate the expected magnitude of the ExB drift velocity in these fields:"
   ]
  },
  {
   "cell_type": "code",
   "execution_count": null,
   "id": "759bbd42",
   "metadata": {},
   "outputs": [],
   "source": [
    "v_ExB = formulary.drifts.ExB_drift(E0*np.array([0,1,0]), B0*np.array([0,0,1]))\n",
    "print(f\"ExB Velocity: {v_ExB}\")"
   ]
  },
  {
   "cell_type": "markdown",
   "id": "b8c35886",
   "metadata": {},
   "source": [
    "Now let's run a particle tracking simulation to confirm this estimate. First we will define the particles initial velocity and positon. \n",
    "\n",
    "We'll chose the intial position so the gyrocenter is at (x,y)=(0,0). We'll give the particle some perpendicular velocity and a paralell velocity, so it orbits while drifting along the field."
   ]
  },
  {
   "cell_type": "code",
   "execution_count": null,
   "id": "65299149",
   "metadata": {},
   "outputs": [],
   "source": [
    "v0 = np.array([0.5,0,1])*u.m/u.s\n",
    "x0 = np.array([0, rLarmor.to(u.m).value, 0])*u.m"
   ]
  },
  {
   "cell_type": "markdown",
   "id": "0efbfeb6",
   "metadata": {},
   "source": [
    "As in the introduction above, we will define a grid and time array over which to run the simulation, using the gyroperiod and gyroradius to help chose an appropriate domain."
   ]
  },
  {
   "cell_type": "code",
   "execution_count": null,
   "id": "9c8bc9c0",
   "metadata": {},
   "outputs": [],
   "source": [
    "fci = (formulary.frequencies.gyrofrequency(np.linalg.norm(B0), particle)/2/np.pi/u.rad).to(1/u.s)\n",
    "times = np.arange(0, (20/fci).to(u.s).value, (1/fci/100).to(u.s).value)*u.s"
   ]
  },
  {
   "cell_type": "code",
   "execution_count": null,
   "id": "537dee59",
   "metadata": {},
   "outputs": [],
   "source": [
    "rLarmor = formulary.lengths.gyroradius(np.linalg.norm(B0), particle, Vperp=v0[0]) \n",
    "xaxis = np.linspace(-1.5*rLarmor, 1.5*rLarmor, num=100)\n",
    "yaxis = np.linspace(-1.5*rLarmor, 1.5*rLarmor, num=100)\n",
    "zaxis = np.linspace(0, 1.2*v0[2]*times[-1], num=100)\n",
    "X, Y, Z = np.meshgrid(xaxis, yaxis, zaxis, indexing='ij')"
   ]
  },
  {
   "cell_type": "markdown",
   "id": "d6f257f4",
   "metadata": {},
   "source": [
    "Finally, we need to create grids of fields at each of these positions. As in the introduction, the fields are constant everywhere so these arrays have the same vector value at each point."
   ]
  },
  {
   "cell_type": "code",
   "execution_count": null,
   "id": "fa1c368a",
   "metadata": {},
   "outputs": [],
   "source": [
    "# Create grids of fields to go on the spatial grid\n",
    "E = np.zeros((*X.shape, 3))*u.V/u.m\n",
    "E[..., 1] = E0\n",
    "\n",
    "B = np.zeros((*X.shape, 3))*u.T\n",
    "B[..., 2] = B0"
   ]
  },
  {
   "cell_type": "code",
   "execution_count": null,
   "id": "f4b4fea8",
   "metadata": {},
   "outputs": [],
   "source": [
    "# Call the function on our particle + fields\n",
    "x,v = track_particle(xaxis, yaxis, zaxis, E, B, x0, v0, particle, times)"
   ]
  },
  {
   "cell_type": "markdown",
   "id": "b50744f6",
   "metadata": {},
   "source": [
    "Done! Now we can visualize the results. First, let's plot the evolution of the coordinates of the particle in time. We see that \n",
    "\n",
    "- The ExB drift moves the particle in the X direction.\n",
    "- The particle gyrates around it's gyrocenter in the XY plane.\n",
    "- The particle moves with constant velocity in the Z direction. \n",
    "\n",
    "Notice how the gyrocenter of the particle in the X direction follows the line predicted by the ExB velocity we calcualted using  the PlasmaPy formulary function. "
   ]
  },
  {
   "cell_type": "code",
   "execution_count": null,
   "id": "04e66f9e",
   "metadata": {},
   "outputs": [],
   "source": [
    "ax = plot3D(x,view=(30,250,0))\n",
    "\n",
    "# Overplot the theoretical ExB guiding center motion\n",
    "# Plot the theoretical drift\n",
    "x_final = (times[-1]*(v_ExB + np.array([0,0,v0[2].value])*v0.unit)).to(u.nm).value\n",
    "\n",
    "ax.plot([0,x_final[0]], [0,x_final[1]], [0,x_final[2]], label='ExB drift')\n",
    "ax.legend();"
   ]
  },
  {
   "cell_type": "markdown",
   "id": "f6c4391e",
   "metadata": {},
   "source": [
    "It's also helpful to visualize the change in each coordinate as a function of time.\n",
    "\n",
    "Notice how the x position (blue) is gyrating around the position predicted by the theoretical ExB drift velocity. The predicted velocity is the *guiding center drift*, meaning that it represents the motion of the center of the particle's gyration."
   ]
  },
  {
   "cell_type": "code",
   "execution_count": null,
   "id": "c0a008e5",
   "metadata": {},
   "outputs": [],
   "source": [
    "fig, ax = plt.subplots()\n",
    "ax.set_title(\"Trajectory\")\n",
    "ax.set_xlabel(\"Time (ns)\")\n",
    "\n",
    "ax.plot(times.to(u.ns).value, x[:-1, 0].to(u.nm).value, label='X')\n",
    "ax.plot(times.to(u.ns).value, x[:-1, 1].to(u.nm).value, label='Y')\n",
    "ax.plot([], [], color='green', label='Z')\n",
    "ax.plot(times.to(u.ns).value, (v_ExB[0]*times).to(u.nm).value, color='red', label='ExB')\n",
    "ax.set_ylabel(\"X,Y position (nm)\")\n",
    "\n",
    "ax2 = ax.twinx()\n",
    "ax2.plot(times.to(u.ns).value, x[:-1, 2].to(u.nm).value, label='Z', color='green')\n",
    "ax2.set_ylabel(\"Z position (nm)\");\n",
    "ax.legend();"
   ]
  },
  {
   "cell_type": "markdown",
   "id": "5b610b78",
   "metadata": {},
   "source": [
    "# The $\\nabla$ B Drift"
   ]
  },
  {
   "cell_type": "markdown",
   "id": "4b8ce723",
   "metadata": {},
   "source": [
    "The gradient B drift causes the guiding center of a gyrating particle to drift along a gradient in the ambient magnetic field. \n",
    "\n",
    "$\\Large v_{\\nabla B} = \\frac{m v_\\perp^2}{2qB} \\frac{\\vec B \\times \\nabla B}{B^2}$\n",
    "\n",
    "We'll start by defining a particle as before."
   ]
  },
  {
   "cell_type": "code",
   "execution_count": null,
   "id": "b9ef32a3",
   "metadata": {},
   "outputs": [],
   "source": [
    "particle = Particle('p+')\n",
    "v0 = np.array([.5,0,0])*u.m/u.s\n",
    "x0 = np.array([0, 0, 0])*u.m"
   ]
  },
  {
   "cell_type": "markdown",
   "id": "241fbde2",
   "metadata": {},
   "source": [
    "Now we need a grid of fields with a magnetic field gradient. "
   ]
  },
  {
   "cell_type": "code",
   "execution_count": null,
   "id": "66e1a5b0",
   "metadata": {},
   "outputs": [],
   "source": [
    "gradB = -0.5*u.T/u.nm\n",
    "B0 = 6*u.T\n",
    "\n",
    "# Create the grid\n",
    "rLarmor = formulary.lengths.gyroradius(B0, particle, Vperp=v0[0]) \n",
    "xaxis = np.linspace(-1.5*rLarmor, 1.5*rLarmor, num=100)\n",
    "yaxis = np.linspace(-1.5*rLarmor, 1.5*rLarmor, num=100)\n",
    "zaxis = np.linspace(0, 1.2*v0[2]*times[-1], num=100)\n",
    "X, Y, Z = np.meshgrid(xaxis, yaxis, zaxis, indexing='ij')\n",
    "\n",
    "B = np.zeros((*X.shape, 3))*u.T\n",
    "B[..., 2] = (B0 - gradB*X)\n",
    "\n",
    "E = np.zeros((*X.shape, 3))*u.V/u.m"
   ]
  },
  {
   "cell_type": "markdown",
   "id": "53f4b7ee",
   "metadata": {},
   "source": [
    "The following plot confirms that the magnetic field is constant in Y and Z, but has a gradient in X."
   ]
  },
  {
   "cell_type": "code",
   "execution_count": null,
   "id": "bacad4db",
   "metadata": {},
   "outputs": [],
   "source": [
    "fig, ax = plt.subplots()\n",
    "ax.plot(xaxis, B[:,50,50,0], label='Bx')\n",
    "ax.plot(xaxis, B[:,50,50,1], label='By')\n",
    "ax.plot(xaxis, B[:,50,50,2], label='Bz')\n",
    "ax.set_xlabel(\"X (m)\")\n",
    "ax.set_ylabel(\"B (T)\")\n",
    "ax.legend();"
   ]
  },
  {
   "cell_type": "markdown",
   "id": "44899338",
   "metadata": {},
   "source": [
    "Now we need to set up the time axis again. This time, since B is changing, we'll use the minimum gyroperiod across the entire domain to make sure we always resolve the gyration."
   ]
  },
  {
   "cell_type": "code",
   "execution_count": null,
   "id": "ccbcbffb",
   "metadata": {},
   "outputs": [],
   "source": [
    "min_fci = formulary.frequencies.gyrofrequency(np.min(B[...,2]), particle)/2/np.pi/u.rad\n",
    "times = np.arange(0, (20/min_fci).to(u.s).value, (1/min_fci/100).to(u.s).value)*u.s"
   ]
  },
  {
   "cell_type": "markdown",
   "id": "54fdf306",
   "metadata": {},
   "source": [
    "Now we can call the particle tracking function"
   ]
  },
  {
   "cell_type": "code",
   "execution_count": null,
   "id": "41220398",
   "metadata": {},
   "outputs": [],
   "source": [
    "x,v = track_particle(xaxis, yaxis, zaxis, E, B, x0, v0, particle, times)"
   ]
  },
  {
   "cell_type": "markdown",
   "id": "8e5b18f3",
   "metadata": {},
   "source": [
    "In addition to the gyration and the velocity of the particle in the z direction, the particle now also has a drift in the y direction, which is the direction perpendicular to both B and gradB."
   ]
  },
  {
   "cell_type": "code",
   "execution_count": null,
   "id": "9d612e78",
   "metadata": {},
   "outputs": [],
   "source": [
    "ax = plot3D(x, view=(20,-30,0))"
   ]
  },
  {
   "cell_type": "markdown",
   "id": "76b1bca0",
   "metadata": {},
   "source": [
    "In the 2D and 3D plots we see the expected behavior: the particle gyrates in the XY plane, but the gradB drift results in a guiding center motion in the +Y direction. We can see this clearly by plotting each coordinate as a function of time."
   ]
  },
  {
   "cell_type": "code",
   "execution_count": null,
   "id": "06367500",
   "metadata": {},
   "outputs": [],
   "source": [
    "fig, ax = plt.subplots()\n",
    "ax.set_title(\"Trajectory\")\n",
    "ax.set_xlabel(\"Time (ns)\")\n",
    "\n",
    "ax.plot(times.to(u.ns).value, x[:-1, 0].to(u.nm).value, label='X')\n",
    "ax.plot(times.to(u.ns).value, x[:-1, 1].to(u.nm).value, label='Y')\n",
    "ax.plot([], [], color='green', label='Z')\n",
    "ax.set_ylabel(\"X,Y position (nm)\")\n",
    "\n",
    "ax2 = ax.twinx()\n",
    "ax2.plot(times.to(u.ns).value, x[:-1, 2].to(u.nm).value, label='Z', color='green')\n",
    "ax2.set_ylabel(\"Z position (nm)\");\n",
    "ax.legend();"
   ]
  },
  {
   "cell_type": "markdown",
   "id": "2ed45428",
   "metadata": {},
   "source": [
    "# The Curvature Drift"
   ]
  },
  {
   "cell_type": "markdown",
   "id": "b874e5ad",
   "metadata": {},
   "source": [
    "The curvature drift occurs when particles travel through a region of curved magnetic field. \n",
    "\n",
    "$ \\Large v_R = \\frac{m v_\\parallel}{q B^2} \\frac{\\vec R_c \\times \\vec B}{R_c^2}$\n",
    "\n",
    "where $\\vec R_c$ is the vector pointing towards the center of curvature. If we have a magnetic field in the $\\hat z$ direction with curvature in the $\\hat x$ direction, then we will expect to see a drift in the $\\hat y$ direction. \n",
    "\n",
    "However, geometrically a curved magnetic field also always has a non-zero magnetic field, so in this simulation we will observe the sum of the two drifts (which are in the same direction)\n",
    "\n",
    "$\\Large v_{R} + \\Large v_{\\nabla B} = \\frac{m}{q} \\frac{\\vec R_c \\times \\vec B}{R_c^2 B^2} \\bigg (\n",
    "v_\\parallel^2 + \\frac{1}{2} v_\\perp^2 \\bigg ) $\n",
    "\n",
    "\n",
    "As before, let's start by defining a particle."
   ]
  },
  {
   "cell_type": "code",
   "execution_count": null,
   "id": "ccd2eb53",
   "metadata": {},
   "outputs": [],
   "source": [
    "particle = Particle('p+')\n",
    "\n",
    "v0 = np.array([.01,0,0])*u.m/u.s\n",
    "x0 = np.array([-2e-9, 0, 0])*u.m"
   ]
  },
  {
   "cell_type": "markdown",
   "id": "81b8b12e",
   "metadata": {},
   "source": [
    "Next we'll define our field grid. We will create a magnetic field with curvature by defining a center of curvature off of the plane, defining the field in cylindrical coordinates, then calculating the Cartesian components."
   ]
  },
  {
   "cell_type": "code",
   "execution_count": null,
   "id": "c670144e",
   "metadata": {},
   "outputs": [],
   "source": [
    "R_curvature =100*u.nm\n",
    "B0 = 5*u.T\n",
    "\n",
    "# Create the grid\n",
    "xaxis = np.linspace(-1.5*u.nm, 1.5*u.nm, num=100)\n",
    "yaxis = np.linspace(-1.5*u.nm, 1.5*u.nm, num=100)\n",
    "zaxis = np.linspace(0, 1.5*u.nm, num=100)\n",
    "X, Y, Z = np.meshgrid(xaxis, yaxis, zaxis, indexing='ij')\n",
    "\n",
    "B = np.zeros((*X.shape, 3))*u.T\n",
    "theta = np.arctan2( (Y -R_curvature).to(u.m).value/10, X.to(u.m).value)\n",
    "B[...,0] = -np.sin(theta)*B0\n",
    "B[...,1] = np.cos(theta)*B0\n",
    "\n",
    "E = np.zeros((*X.shape, 3))*u.V/u.m"
   ]
  },
  {
   "cell_type": "markdown",
   "id": "695e64ff",
   "metadata": {},
   "source": [
    "This is a bit of a tricky field, so let's make a vector plot to visualize it"
   ]
  },
  {
   "cell_type": "code",
   "execution_count": null,
   "id": "14010011",
   "metadata": {},
   "outputs": [],
   "source": [
    "fig, ax = plt.subplots()\n",
    "step=5\n",
    "ax.quiver(X[::step,::step, 50], Y[::step, ::step, 50], \n",
    "          B[::step,::step, 50, 0].value, B[::step, ::step, 50, 1].value);\n",
    "ax.set_xlabel(\"X (m)\")\n",
    "ax.set_ylabel(\"Y (m)\");"
   ]
  },
  {
   "cell_type": "markdown",
   "id": "75f445ca",
   "metadata": {},
   "source": [
    "As before, we'll create a time array based on the maximum magnetic field"
   ]
  },
  {
   "cell_type": "code",
   "execution_count": null,
   "id": "85d2a143",
   "metadata": {},
   "outputs": [],
   "source": [
    "fci = formulary.frequencies.gyrofrequency(np.max(np.linalg.norm(B, axis=-1)), particle)/2/np.pi/u.rad\n",
    "times = np.arange(0, (20/fci).to(u.s).value, (1/fci/100).to(u.s).value)*u.s"
   ]
  },
  {
   "cell_type": "code",
   "execution_count": null,
   "id": "a8b4cf8d",
   "metadata": {},
   "outputs": [],
   "source": [
    "# Call the function on our particle + fields\n",
    "x,v = track_particle(xaxis, yaxis, zaxis, E, B, x0, v0, particle, times)"
   ]
  },
  {
   "cell_type": "markdown",
   "id": "15019a37",
   "metadata": {},
   "source": [
    "Now let's plot the results. The curvature drift and gradient B leads to a drift in the Y direction (R_curvature X B) superimposed on the initial velocity we gave the particle in the X direction. "
   ]
  },
  {
   "cell_type": "code",
   "execution_count": null,
   "id": "b902d21e",
   "metadata": {},
   "outputs": [],
   "source": [
    "plot3D(x, view=(40,180,0));"
   ]
  },
  {
   "cell_type": "markdown",
   "id": "ebafcabb",
   "metadata": {},
   "source": [
    "And, as before, here are the individual coordinates plotted."
   ]
  },
  {
   "cell_type": "code",
   "execution_count": null,
   "id": "d6a817b2",
   "metadata": {},
   "outputs": [],
   "source": [
    "fig, ax = plt.subplots()\n",
    "ax.set_title(\"Trajectory\")\n",
    "ax.set_xlabel(\"Time (ns)\")\n",
    "\n",
    "ax.plot(times.to(u.ns).value, x[:-1, 0].to(u.nm).value, label='X')\n",
    "ax.plot(times.to(u.ns).value, x[:-1, 1].to(u.nm).value, label='Y')\n",
    "ax.plot([], [], color='green', label='Z')\n",
    "ax.set_ylabel(\"X,Y position (nm)\")\n",
    "\n",
    "ax2 = ax.twinx()\n",
    "ax2.plot(times.to(u.ns).value, x[:-1, 2].to(u.nm).value, label='Z', color='green')\n",
    "ax2.set_ylabel(\"Z position (nm)\");\n",
    "ax.legend();"
   ]
  }
 ],
 "metadata": {
  "kernelspec": {
   "display_name": "Python 3 (ipykernel)",
   "language": "python",
   "name": "python3"
  },
  "language_info": {
   "codemirror_mode": {
    "name": "ipython",
    "version": 3
   },
   "file_extension": ".py",
   "mimetype": "text/x-python",
   "name": "python",
   "nbconvert_exporter": "python",
   "pygments_lexer": "ipython3",
   "version": "3.11.3"
  }
 },
 "nbformat": 4,
 "nbformat_minor": 5
}
