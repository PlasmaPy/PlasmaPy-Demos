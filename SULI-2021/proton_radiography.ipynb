{
 "cells": [
  {
   "cell_type": "markdown",
   "metadata": {},
   "source": [
    "# Charged Particle Radiography Workbook"
   ]
  },
  {
   "cell_type": "markdown",
   "metadata": {},
   "source": [
    "[SyntheticProtronRadiography]: https://docs.plasmapy.org/en/stable/api/plasmapy.diagnostics.proton_radiography.SyntheticProtonRadiograph.html#plasmapy.diagnostics.proton_radiography.SyntheticProtonRadiograph\n",
    "\n",
    "This workbook creates an example electric or magnetic field, then uses the PlasmaPy [SyntheticProtronRadiography] class to create a synthetic proton radiograph through those fields."
   ]
  },
  {
   "cell_type": "code",
   "execution_count": null,
   "metadata": {},
   "outputs": [],
   "source": [
    "import astropy.constants as const\n",
    "import astropy.units as u\n",
    "import matplotlib.pyplot as plt\n",
    "import numpy as np\n",
    "\n",
    "from plasmapy.diagnostics import proton_radiography as prad\n",
    "from plasmapy.plasma.grids import CartesianGrid"
   ]
  },
  {
   "cell_type": "markdown",
   "metadata": {},
   "source": [
    "## Creating Example Fields"
   ]
  },
  {
   "cell_type": "markdown",
   "metadata": {},
   "source": [
    "[CartesianGrid]: https://docs.plasmapy.org/en/stable/api/plasmapy.plasma.grids.CartesianGrid.html#plasmapy.plasma.grids.CartesianGrid\n",
    "\n",
    "[example notebook]:https://docs.plasmapy.org/en/stable/notebooks/plasma/grids_cartesian.html\n",
    "\n",
    "In order to input the example fields, we will create a PlasmaPy [CartesianGrid] object (as described in this [example notebook]) and fill it with the analytical fields from one of two models:\n",
    "\n",
    "1. The electric field produced by a sphere of Gaussian potential. \n",
    "2. A cylindrical region of straight magnetic field\n",
    "\n",
    "You can change between these examples by changing the variable \"example\" below from \"e-sphere\" to \"b-cylinder\"."
   ]
  },
  {
   "cell_type": "code",
   "execution_count": null,
   "metadata": {},
   "outputs": [],
   "source": [
    "example = 'e-sphere'\n",
    "#example = 'b-cylinder'\n",
    "\n",
    "# For both cases, create a CartesianGrid from -1 to 1 mm in each dimension and 100 grid points.\n",
    "L = 1 * u.mm\n",
    "grid = CartesianGrid(-L, L, num=100)\n",
    "\n",
    "if example == 'e-sphere':\n",
    "    # Try increasing phi0 to increase the electric field magnitude\n",
    "    phi0 = 5e4 * u.V\n",
    "    #phi0 = 2e5 * u.V\n",
    "    \n",
    "    # Create a spherical potential with a Gaussian radial distribution\n",
    "    radius = np.linalg.norm(grid.grid, axis=3)\n",
    "    arg = (radius / (L / 3)).to(u.dimensionless_unscaled)\n",
    "    potential = phi0 * np.exp(-(arg ** 2))\n",
    "\n",
    "    # Calculate E from the potential\n",
    "    Ex, Ey, Ez = np.gradient(potential, grid.dax0, grid.dax1, grid.dax2)\n",
    "    Ex = -np.where(radius < L / 2, Ex, 0)\n",
    "    Ey = -np.where(radius < L / 2, Ey, 0)\n",
    "    Ez = -np.where(radius < L / 2, Ez, 0)\n",
    "    \n",
    "    Bx = np.zeros(grid.shape)*u.T\n",
    "    By = np.zeros(grid.shape)*u.T\n",
    "    Bz = np.zeros(grid.shape)*u.T\n",
    "    \n",
    "elif example == 'b-cylinder':\n",
    "    # Try increasing B0 to increase the magnetic field strength.\n",
    "    B0 = 10 * u.T\n",
    "    #B0 = 50 * u.T\n",
    "    \n",
    "    radius = np.sqrt(grid.pts0**2 + grid.pts1**2)\n",
    "    Ex = np.zeros(grid.shape)*u.V/u.m\n",
    "    Ey = np.zeros(grid.shape)*u.V/u.m\n",
    "    Ez = np.zeros(grid.shape)*u.V/u.m\n",
    "    \n",
    "    Bx = np.zeros(grid.shape)*u.T\n",
    "    By = np.zeros(grid.shape)*u.T\n",
    "    Bz = np.where(radius < 0.3*u.mm, B0, 0*u.T)\n",
    "\n",
    "# Add those quantities to the grid\n",
    "grid.add_quantities(E_x=Ex, E_y=Ey, E_z=Ez,\n",
    "                    B_x=Bx, B_y=By, B_z=Bz)\n",
    "\n",
    "# Print a summary of the grid, showing the fields we have added\n",
    "print(grid)"
   ]
  },
  {
   "cell_type": "markdown",
   "metadata": {},
   "source": [
    "Lets plot the fields, just to make sure they look like we expect"
   ]
  },
  {
   "cell_type": "code",
   "execution_count": null,
   "metadata": {},
   "outputs": [],
   "source": [
    "fig, axarr = plt.subplots(ncols=2, figsize=(8, 6))\n",
    "fig.subplots_adjust(wspace=0.35)\n",
    "\n",
    "# Define a slice to plot only a subset of the points\n",
    "s = slice(None,None,3)\n",
    "\n",
    "for ax in axarr:\n",
    "    ax.set_aspect('equal')\n",
    "    ax.set_xlabel(\"X (mm)\")\n",
    "    ax.set_ylabel(\"Z (mm)\")\n",
    "    \n",
    "ax = axarr[0]\n",
    "ax.set_title(\"E (at y=0)\")\n",
    "ax.quiver(grid.pts0[s, 50, s].to(u.mm).value, \n",
    "          grid.pts2[s, 50, s].to(u.mm).value, \n",
    "          grid['E_x'][s,50,s].value, grid['E_z'][s,50,s].value,\n",
    "          angles='xy', scale=3e6)\n",
    "\n",
    "ax = axarr[1]\n",
    "ax.set_title(\"B (at y=0)\")\n",
    "ax.quiver(grid.pts0[s, 50, s].to(u.mm).value, \n",
    "          grid.pts2[s, 50, s].to(u.mm).value, \n",
    "          grid['B_x'][s,50,s].value, grid['B_z'][s,50,s].value,\n",
    "          angles='xy', scale=200);"
   ]
  },
  {
   "cell_type": "markdown",
   "metadata": {},
   "source": [
    "## Runing the Particle Tracing Algorithm"
   ]
  },
  {
   "cell_type": "markdown",
   "metadata": {},
   "source": [
    "[astropy.units.Quantity]: https://docs.astropy.org/en/stable/units/quantity.html#quantity\n",
    "[example tutorial]: https://docs.plasmapy.org/en/stable/notebooks/diagnostics/proton_radiography_particle_tracing.html\n",
    "\n",
    "This notebook is adapted from the [example tutorial] in the PlasmaPy documentation.\n",
    "\n",
    "First we will define the location of the source and the center of the detector plane. \n",
    "\n",
    "**Things to Try**\n",
    "- Try setting the source and detector positions in spherical or cylindrical coordinates by using the appropriate units (as in the commented-out lines below).\n",
    "- Try moving the source and detector positions to vary the system magnification.\n",
    "- For the magnetic field cylinder example (which is not spherically symmetric), how does the radiograph change if the source-detector vector is at an angle to the B-field?"
   ]
  },
  {
   "cell_type": "code",
   "execution_count": null,
   "metadata": {},
   "outputs": [],
   "source": [
    "source = (0 * u.mm, -10 * u.mm, 0 * u.mm)\n",
    "detector = (0 * u.mm, 100 * u.mm, 0 * u.mm)\n",
    "#source = (10 * u.mm, 0 * u.deg, 180 * u.deg)\n",
    "#detector = (100 * u.mm, 0 * u.deg, 0 * u.deg)\n",
    "\n",
    "sim = prad.SyntheticProtonRadiograph(grid, source, detector, verbose=True)"
   ]
  },
  {
   "cell_type": "markdown",
   "metadata": {},
   "source": [
    "[create_particles()]: https://docs.plasmapy.org/en/stable/api/plasmapy.diagnostics.proton_radiography.SyntheticProtonRadiograph.html#plasmapy.diagnostics.proton_radiography.SyntheticProtonRadiograph.create_particles\n",
    "\n",
    "Next we will create the test particles with [create_particles()]\n",
    "\n",
    "**Things to Try**\n",
    "- Including more or fewer particles will result in less or more noise (but also affects the computation time)\n",
    "- Increase the particle energy, and notice how the resulting deflections become smaller."
   ]
  },
  {
   "cell_type": "code",
   "execution_count": null,
   "metadata": {},
   "outputs": [],
   "source": [
    "sim.create_particles(5e4, 3 * u.MeV, max_theta=np.pi / 15 * u.rad, particle=\"p\")"
   ]
  },
  {
   "cell_type": "markdown",
   "metadata": {},
   "source": [
    "[run()]: https://docs.plasmapy.org/en/stable/api/plasmapy.diagnostics.proton_radiography.SyntheticProtonRadiograph.html#plasmapy.diagnostics.proton_radiography.SyntheticProtonRadiograph.run\n",
    "\n",
    "Now we will run the simulation by calling [run()].\n",
    "\n",
    "**Things to Try**\n",
    "- Setting the field_weighting keyword to 'nearest neighbor' will make the simulation run faster, but the interpolated fields will be less accurate."
   ]
  },
  {
   "cell_type": "markdown",
   "metadata": {},
   "source": [
    "[add_wire_mesh()]: https://docs.plasmapy.org/en/stable/api/plasmapy.diagnostics.proton_radiography.SyntheticProtonRadiograph.html#plasmapy.diagnostics.proton_radiography.SyntheticProtonRadiograph.add_wire_mesh\n",
    "       \n",
    "In many proton radiography experiments, a wire fiducial mesh is placed between the source and the object plasma to provide a known spatial reference. To add a mesh fiducial to this simulation, uncomment the bottom line below. \n",
    "\n",
    "**To Try**\n",
    "- Vary the position of the mesh relative to the source, which changes the magnification of the mesh on the detector. "
   ]
  },
  {
   "cell_type": "code",
   "execution_count": null,
   "metadata": {},
   "outputs": [],
   "source": [
    "location = np.array([0, -2, 0]) * u.mm\n",
    "extent = (1.5 * u.mm, 1.5 * u.mm)\n",
    "nwires = (9, 12)\n",
    "wire_diameter = 25 * u.um\n",
    "# Uncomment this line to add a wire fiducial mesh\n",
    "#sim.add_wire_mesh(location, extent, nwires, wire_diameter)"
   ]
  },
  {
   "cell_type": "code",
   "execution_count": null,
   "metadata": {
    "scrolled": true
   },
   "outputs": [],
   "source": [
    "sim.run(field_weighting='volume averaged')"
   ]
  },
  {
   "cell_type": "markdown",
   "metadata": {},
   "source": [
    "[synthetic_radiograph()]: https://docs.plasmapy.org/en/stable/api/plasmapy.diagnostics.proton_radiography.SyntheticProtonRadiograph.html#plasmapy.diagnostics.proton_radiography.SyntheticProtonRadiograph.synthetic_radiograph\n",
    "\n",
    "Finally, we will create a synthetic radiograph histogram by calling [synthetic_radiograph()]\n",
    "\n",
    "**To Try**\n",
    "- Increasing the size of the radiograph will change the field of view.\n",
    "- Increasing or decreasing the number of bins will change the resolution, but also affects the amount of noise per pixel. "
   ]
  },
  {
   "cell_type": "code",
   "execution_count": null,
   "metadata": {
    "nbsphinx-thumbnail": {
     "output-index": -1,
     "tooltip": "Proton Radiography"
    }
   },
   "outputs": [],
   "source": [
    "size = np.array([[-1, 1], [-1, 1]]) * 1.5 * u.cm\n",
    "bins = [200, 200]\n",
    "hax, vax, intensity = sim.synthetic_radiograph(size=size, bins=bins)\n",
    "\n",
    "# Make the plot\n",
    "fig, ax = plt.subplots(figsize=(8, 8))\n",
    "plot = ax.pcolormesh(\n",
    "    hax.to(u.cm).value,\n",
    "    vax.to(u.cm).value,\n",
    "    intensity.T,\n",
    "    cmap=\"Blues_r\",\n",
    "    shading=\"auto\",\n",
    ")\n",
    "cb = fig.colorbar(plot)\n",
    "cb.ax.set_ylabel(\"Intensity\")\n",
    "ax.set_aspect(\"equal\")\n",
    "ax.set_xlabel(\"X (cm), Image plane\")\n",
    "ax.set_ylabel(\"Z (cm), Image plane\")\n",
    "ax.set_title(\"Synthetic Proton Radiograph\");"
   ]
  },
  {
   "cell_type": "markdown",
   "metadata": {},
   "source": [
    "Now you can try re-running this script with different input keywords to see how they change the radiograph! It is best to do this by making changes, then re-running the entire notebook with \"Cell > Run All\"."
   ]
  }
 ],
 "metadata": {
  "kernelspec": {
   "display_name": "Python 3",
   "language": "python",
   "name": "python3"
  },
  "language_info": {
   "codemirror_mode": {
    "name": "ipython",
    "version": 3
   },
   "file_extension": ".py",
   "mimetype": "text/x-python",
   "name": "python",
   "nbconvert_exporter": "python",
   "pygments_lexer": "ipython3",
   "version": "3.8.10"
  }
 },
 "nbformat": 4,
 "nbformat_minor": 4
}
