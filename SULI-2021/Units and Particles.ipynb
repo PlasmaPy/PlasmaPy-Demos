{
 "cells": [
  {
   "cell_type": "code",
   "execution_count": 1,
   "id": "0ee3d8f9",
   "metadata": {},
   "outputs": [],
   "source": [
    "length_in_kilometers = 2"
   ]
  },
  {
   "cell_type": "code",
   "execution_count": 2,
   "id": "0e044ab3",
   "metadata": {},
   "outputs": [],
   "source": [
    "length_in_miles = 6"
   ]
  },
  {
   "cell_type": "code",
   "execution_count": 3,
   "id": "70b82690",
   "metadata": {},
   "outputs": [
    {
     "data": {
      "text/plain": [
       "8"
      ]
     },
     "execution_count": 3,
     "metadata": {},
     "output_type": "execute_result"
    }
   ],
   "source": [
    "length_in_kilometers + length_in_miles"
   ]
  },
  {
   "cell_type": "code",
   "execution_count": 4,
   "id": "069826a3",
   "metadata": {},
   "outputs": [],
   "source": [
    "import astropy.units as u"
   ]
  },
  {
   "cell_type": "code",
   "execution_count": 5,
   "id": "97443be0",
   "metadata": {},
   "outputs": [
    {
     "data": {
      "text/latex": [
       "$42 \\; \\mathrm{m}$"
      ],
      "text/plain": [
       "<Quantity 42. m>"
      ]
     },
     "execution_count": 5,
     "metadata": {},
     "output_type": "execute_result"
    }
   ],
   "source": [
    "42 * u.meter"
   ]
  },
  {
   "cell_type": "code",
   "execution_count": 6,
   "id": "acc7522b",
   "metadata": {},
   "outputs": [],
   "source": [
    "distance = 42 * u.m"
   ]
  },
  {
   "cell_type": "code",
   "execution_count": 7,
   "id": "7ac3316c",
   "metadata": {},
   "outputs": [
    {
     "data": {
      "text/latex": [
       "$1.3611273 \\times 10^{-15} \\; \\mathrm{pc}$"
      ],
      "text/plain": [
       "<Quantity 1.3611273e-15 pc>"
      ]
     },
     "execution_count": 7,
     "metadata": {},
     "output_type": "execute_result"
    }
   ],
   "source": [
    "distance.to('parsec')"
   ]
  },
  {
   "cell_type": "code",
   "execution_count": 8,
   "id": "3d7fc914",
   "metadata": {},
   "outputs": [
    {
     "data": {
      "text/latex": [
       "$4200 \\; \\mathrm{cm}$"
      ],
      "text/plain": [
       "<Quantity 4200. cm>"
      ]
     },
     "execution_count": 8,
     "metadata": {},
     "output_type": "execute_result"
    }
   ],
   "source": [
    "distance.to(u.cm)"
   ]
  },
  {
   "cell_type": "code",
   "execution_count": 9,
   "id": "b711202a",
   "metadata": {},
   "outputs": [
    {
     "data": {
      "text/latex": [
       "$0.02609759 \\; \\mathrm{mi}$"
      ],
      "text/plain": [
       "<Quantity 0.02609759 mi>"
      ]
     },
     "execution_count": 9,
     "metadata": {},
     "output_type": "execute_result"
    }
   ],
   "source": [
    "distance.to(u.imperial.mile)"
   ]
  },
  {
   "cell_type": "code",
   "execution_count": 10,
   "id": "aa6e9207",
   "metadata": {},
   "outputs": [
    {
     "data": {
      "text/plain": [
       "42.0"
      ]
     },
     "execution_count": 10,
     "metadata": {},
     "output_type": "execute_result"
    }
   ],
   "source": [
    "distance.value"
   ]
  },
  {
   "cell_type": "code",
   "execution_count": 11,
   "id": "a2ff0e54",
   "metadata": {},
   "outputs": [
    {
     "data": {
      "text/latex": [
       "$\\mathrm{m}$"
      ],
      "text/plain": [
       "Unit(\"m\")"
      ]
     },
     "execution_count": 11,
     "metadata": {},
     "output_type": "execute_result"
    }
   ],
   "source": [
    "distance.unit"
   ]
  },
  {
   "cell_type": "code",
   "execution_count": 12,
   "id": "90c852b6",
   "metadata": {},
   "outputs": [
    {
     "data": {
      "text/plain": [
       "astropy.units.quantity.Quantity"
      ]
     },
     "execution_count": 12,
     "metadata": {},
     "output_type": "execute_result"
    }
   ],
   "source": [
    "type(distance)"
   ]
  },
  {
   "cell_type": "code",
   "execution_count": 13,
   "id": "8df6f0e8",
   "metadata": {},
   "outputs": [
    {
     "name": "stdout",
     "output_type": "stream",
     "text": [
      "1.0676 s\n"
     ]
    }
   ],
   "source": [
    "time = u.Quantity(1.0676, 's')\n",
    "print(time)"
   ]
  },
  {
   "cell_type": "code",
   "execution_count": 14,
   "id": "43cea3f4",
   "metadata": {},
   "outputs": [
    {
     "name": "stdout",
     "output_type": "stream",
     "text": [
      "39.34057699512926 m / s\n"
     ]
    }
   ],
   "source": [
    "velocity = distance / time\n",
    "print(velocity)"
   ]
  },
  {
   "cell_type": "code",
   "execution_count": 15,
   "id": "0bbcf0a4",
   "metadata": {},
   "outputs": [],
   "source": [
    "mph = u.imperial.mi / u.hr"
   ]
  },
  {
   "cell_type": "code",
   "execution_count": 16,
   "id": "376da635",
   "metadata": {},
   "outputs": [
    {
     "name": "stdout",
     "output_type": "stream",
     "text": [
      "mi / h\n"
     ]
    }
   ],
   "source": [
    "print(mph)"
   ]
  },
  {
   "cell_type": "code",
   "execution_count": 17,
   "id": "b499da8c",
   "metadata": {},
   "outputs": [
    {
     "data": {
      "text/latex": [
       "$88.002364 \\; \\mathrm{\\frac{mi}{h}}$"
      ],
      "text/plain": [
       "<Quantity 88.00236443 mi / h>"
      ]
     },
     "execution_count": 17,
     "metadata": {},
     "output_type": "execute_result"
    }
   ],
   "source": [
    "velocity.to(mph)"
   ]
  },
  {
   "cell_type": "code",
   "execution_count": 18,
   "id": "d1892bbd",
   "metadata": {},
   "outputs": [],
   "source": [
    "power = 1.21 * u.GW"
   ]
  },
  {
   "cell_type": "code",
   "execution_count": 19,
   "id": "c7c0012b",
   "metadata": {},
   "outputs": [
    {
     "data": {
      "text/latex": [
       "$1.21 \\times 10^{9} \\; \\mathrm{\\frac{J}{s}}$"
      ],
      "text/plain": [
       "<Quantity 1.21e+09 J / s>"
      ]
     },
     "execution_count": 19,
     "metadata": {},
     "output_type": "execute_result"
    }
   ],
   "source": [
    "power.si"
   ]
  },
  {
   "cell_type": "code",
   "execution_count": 20,
   "id": "713e5124",
   "metadata": {},
   "outputs": [
    {
     "data": {
      "text/latex": [
       "$1.21 \\times 10^{16} \\; \\mathrm{\\frac{erg}{s}}$"
      ],
      "text/plain": [
       "<Quantity 1.21e+16 erg / s>"
      ]
     },
     "execution_count": 20,
     "metadata": {},
     "output_type": "execute_result"
    }
   ],
   "source": [
    "power.cgs"
   ]
  },
  {
   "cell_type": "code",
   "execution_count": 21,
   "id": "78c44fca",
   "metadata": {},
   "outputs": [
    {
     "data": {
      "text/latex": [
       "$11 \\; \\mathrm{m}$"
      ],
      "text/plain": [
       "<Quantity 11. m>"
      ]
     },
     "execution_count": 21,
     "metadata": {},
     "output_type": "execute_result"
    }
   ],
   "source": [
    "10 * u.m + 100 * u.cm"
   ]
  },
  {
   "cell_type": "code",
   "execution_count": 22,
   "id": "18ab4517",
   "metadata": {},
   "outputs": [
    {
     "ename": "UnitConversionError",
     "evalue": "Can only apply 'add' function to quantities with compatible dimensions",
     "output_type": "error",
     "traceback": [
      "\u001b[0;31m---------------------------------------------------------------------------\u001b[0m",
      "\u001b[0;31mUnitConversionError\u001b[0m                       Traceback (most recent call last)",
      "\u001b[0;32m~/.miniconda/envs/SULI/lib/python3.9/site-packages/astropy/units/quantity_helper/helpers.py\u001b[0m in \u001b[0;36mget_converter\u001b[0;34m(from_unit, to_unit)\u001b[0m\n\u001b[1;32m     31\u001b[0m     \u001b[0;32mtry\u001b[0m\u001b[0;34m:\u001b[0m\u001b[0;34m\u001b[0m\u001b[0;34m\u001b[0m\u001b[0m\n\u001b[0;32m---> 32\u001b[0;31m         \u001b[0mscale\u001b[0m \u001b[0;34m=\u001b[0m \u001b[0mfrom_unit\u001b[0m\u001b[0;34m.\u001b[0m\u001b[0m_to\u001b[0m\u001b[0;34m(\u001b[0m\u001b[0mto_unit\u001b[0m\u001b[0;34m)\u001b[0m\u001b[0;34m\u001b[0m\u001b[0;34m\u001b[0m\u001b[0m\n\u001b[0m\u001b[1;32m     33\u001b[0m     \u001b[0;32mexcept\u001b[0m \u001b[0mUnitsError\u001b[0m\u001b[0;34m:\u001b[0m\u001b[0;34m\u001b[0m\u001b[0;34m\u001b[0m\u001b[0m\n",
      "\u001b[0;32m~/.miniconda/envs/SULI/lib/python3.9/site-packages/astropy/units/core.py\u001b[0m in \u001b[0;36m_to\u001b[0;34m(self, other)\u001b[0m\n\u001b[1;32m    949\u001b[0m \u001b[0;34m\u001b[0m\u001b[0m\n\u001b[0;32m--> 950\u001b[0;31m         raise UnitConversionError(\n\u001b[0m\u001b[1;32m    951\u001b[0m             f\"'{self!r}' is not a scaled version of '{other!r}'\")\n",
      "\u001b[0;31mUnitConversionError\u001b[0m: 'Unit(\"N\")' is not a scaled version of 'Unit(\"m\")'",
      "\nDuring handling of the above exception, another exception occurred:\n",
      "\u001b[0;31mUnitConversionError\u001b[0m                       Traceback (most recent call last)",
      "\u001b[0;32m~/.miniconda/envs/SULI/lib/python3.9/site-packages/astropy/units/quantity_helper/helpers.py\u001b[0m in \u001b[0;36mget_converters_and_unit\u001b[0;34m(f, unit1, unit2)\u001b[0m\n\u001b[1;32m     76\u001b[0m         \u001b[0;32mtry\u001b[0m\u001b[0;34m:\u001b[0m\u001b[0;34m\u001b[0m\u001b[0;34m\u001b[0m\u001b[0m\n\u001b[0;32m---> 77\u001b[0;31m             \u001b[0mconverters\u001b[0m\u001b[0;34m[\u001b[0m\u001b[0mchangeable\u001b[0m\u001b[0;34m]\u001b[0m \u001b[0;34m=\u001b[0m \u001b[0mget_converter\u001b[0m\u001b[0;34m(\u001b[0m\u001b[0munit2\u001b[0m\u001b[0;34m,\u001b[0m \u001b[0munit1\u001b[0m\u001b[0;34m)\u001b[0m\u001b[0;34m\u001b[0m\u001b[0;34m\u001b[0m\u001b[0m\n\u001b[0m\u001b[1;32m     78\u001b[0m         \u001b[0;32mexcept\u001b[0m \u001b[0mUnitsError\u001b[0m\u001b[0;34m:\u001b[0m\u001b[0;34m\u001b[0m\u001b[0;34m\u001b[0m\u001b[0m\n",
      "\u001b[0;32m~/.miniconda/envs/SULI/lib/python3.9/site-packages/astropy/units/quantity_helper/helpers.py\u001b[0m in \u001b[0;36mget_converter\u001b[0;34m(from_unit, to_unit)\u001b[0m\n\u001b[1;32m     33\u001b[0m     \u001b[0;32mexcept\u001b[0m \u001b[0mUnitsError\u001b[0m\u001b[0;34m:\u001b[0m\u001b[0;34m\u001b[0m\u001b[0;34m\u001b[0m\u001b[0m\n\u001b[0;32m---> 34\u001b[0;31m         return from_unit._apply_equivalencies(\n\u001b[0m\u001b[1;32m     35\u001b[0m                 from_unit, to_unit, get_current_unit_registry().equivalencies)\n",
      "\u001b[0;32m~/.miniconda/envs/SULI/lib/python3.9/site-packages/astropy/units/core.py\u001b[0m in \u001b[0;36m_apply_equivalencies\u001b[0;34m(self, unit, other, equivalencies)\u001b[0m\n\u001b[1;32m    885\u001b[0m \u001b[0;34m\u001b[0m\u001b[0m\n\u001b[0;32m--> 886\u001b[0;31m         raise UnitConversionError(\n\u001b[0m\u001b[1;32m    887\u001b[0m             \"{} and {} are not convertible\".format(\n",
      "\u001b[0;31mUnitConversionError\u001b[0m: 'N' (force) and 'm' (length) are not convertible",
      "\nDuring handling of the above exception, another exception occurred:\n",
      "\u001b[0;31mUnitConversionError\u001b[0m                       Traceback (most recent call last)",
      "\u001b[0;32m<ipython-input-22-86c052084d64>\u001b[0m in \u001b[0;36m<module>\u001b[0;34m\u001b[0m\n\u001b[0;32m----> 1\u001b[0;31m \u001b[0;36m3\u001b[0m \u001b[0;34m*\u001b[0m \u001b[0mu\u001b[0m\u001b[0;34m.\u001b[0m\u001b[0mm\u001b[0m \u001b[0;34m+\u001b[0m \u001b[0;36m4\u001b[0m \u001b[0;34m*\u001b[0m \u001b[0mu\u001b[0m\u001b[0;34m.\u001b[0m\u001b[0mN\u001b[0m\u001b[0;34m\u001b[0m\u001b[0;34m\u001b[0m\u001b[0m\n\u001b[0m",
      "\u001b[0;32m~/.miniconda/envs/SULI/lib/python3.9/site-packages/astropy/units/quantity.py\u001b[0m in \u001b[0;36m__array_ufunc__\u001b[0;34m(self, function, method, *inputs, **kwargs)\u001b[0m\n\u001b[1;32m    457\u001b[0m         \u001b[0;31m# consistent units between two inputs (e.g., in np.add) --\u001b[0m\u001b[0;34m\u001b[0m\u001b[0;34m\u001b[0m\u001b[0;34m\u001b[0m\u001b[0m\n\u001b[1;32m    458\u001b[0m         \u001b[0;31m# and the unit of the result (or tuple of units for nout > 1).\u001b[0m\u001b[0;34m\u001b[0m\u001b[0;34m\u001b[0m\u001b[0;34m\u001b[0m\u001b[0m\n\u001b[0;32m--> 459\u001b[0;31m         \u001b[0mconverters\u001b[0m\u001b[0;34m,\u001b[0m \u001b[0munit\u001b[0m \u001b[0;34m=\u001b[0m \u001b[0mconverters_and_unit\u001b[0m\u001b[0;34m(\u001b[0m\u001b[0mfunction\u001b[0m\u001b[0;34m,\u001b[0m \u001b[0mmethod\u001b[0m\u001b[0;34m,\u001b[0m \u001b[0;34m*\u001b[0m\u001b[0minputs\u001b[0m\u001b[0;34m)\u001b[0m\u001b[0;34m\u001b[0m\u001b[0;34m\u001b[0m\u001b[0m\n\u001b[0m\u001b[1;32m    460\u001b[0m \u001b[0;34m\u001b[0m\u001b[0m\n\u001b[1;32m    461\u001b[0m         \u001b[0mout\u001b[0m \u001b[0;34m=\u001b[0m \u001b[0mkwargs\u001b[0m\u001b[0;34m.\u001b[0m\u001b[0mget\u001b[0m\u001b[0;34m(\u001b[0m\u001b[0;34m'out'\u001b[0m\u001b[0;34m,\u001b[0m \u001b[0;32mNone\u001b[0m\u001b[0;34m)\u001b[0m\u001b[0;34m\u001b[0m\u001b[0;34m\u001b[0m\u001b[0m\n",
      "\u001b[0;32m~/.miniconda/envs/SULI/lib/python3.9/site-packages/astropy/units/quantity_helper/converters.py\u001b[0m in \u001b[0;36mconverters_and_unit\u001b[0;34m(function, method, *args)\u001b[0m\n\u001b[1;32m    164\u001b[0m \u001b[0;34m\u001b[0m\u001b[0m\n\u001b[1;32m    165\u001b[0m         \u001b[0;31m# Determine possible conversion functions, and the result unit.\u001b[0m\u001b[0;34m\u001b[0m\u001b[0;34m\u001b[0m\u001b[0;34m\u001b[0m\u001b[0m\n\u001b[0;32m--> 166\u001b[0;31m         \u001b[0mconverters\u001b[0m\u001b[0;34m,\u001b[0m \u001b[0mresult_unit\u001b[0m \u001b[0;34m=\u001b[0m \u001b[0mufunc_helper\u001b[0m\u001b[0;34m(\u001b[0m\u001b[0mfunction\u001b[0m\u001b[0;34m,\u001b[0m \u001b[0;34m*\u001b[0m\u001b[0munits\u001b[0m\u001b[0;34m)\u001b[0m\u001b[0;34m\u001b[0m\u001b[0;34m\u001b[0m\u001b[0m\n\u001b[0m\u001b[1;32m    167\u001b[0m \u001b[0;34m\u001b[0m\u001b[0m\n\u001b[1;32m    168\u001b[0m         \u001b[0;32mif\u001b[0m \u001b[0many\u001b[0m\u001b[0;34m(\u001b[0m\u001b[0mconverter\u001b[0m \u001b[0;32mis\u001b[0m \u001b[0;32mFalse\u001b[0m \u001b[0;32mfor\u001b[0m \u001b[0mconverter\u001b[0m \u001b[0;32min\u001b[0m \u001b[0mconverters\u001b[0m\u001b[0;34m)\u001b[0m\u001b[0;34m:\u001b[0m\u001b[0;34m\u001b[0m\u001b[0;34m\u001b[0m\u001b[0m\n",
      "\u001b[0;32m~/.miniconda/envs/SULI/lib/python3.9/site-packages/astropy/units/quantity_helper/helpers.py\u001b[0m in \u001b[0;36mget_converters_and_unit\u001b[0;34m(f, unit1, unit2)\u001b[0m\n\u001b[1;32m     77\u001b[0m             \u001b[0mconverters\u001b[0m\u001b[0;34m[\u001b[0m\u001b[0mchangeable\u001b[0m\u001b[0;34m]\u001b[0m \u001b[0;34m=\u001b[0m \u001b[0mget_converter\u001b[0m\u001b[0;34m(\u001b[0m\u001b[0munit2\u001b[0m\u001b[0;34m,\u001b[0m \u001b[0munit1\u001b[0m\u001b[0;34m)\u001b[0m\u001b[0;34m\u001b[0m\u001b[0;34m\u001b[0m\u001b[0m\n\u001b[1;32m     78\u001b[0m         \u001b[0;32mexcept\u001b[0m \u001b[0mUnitsError\u001b[0m\u001b[0;34m:\u001b[0m\u001b[0;34m\u001b[0m\u001b[0;34m\u001b[0m\u001b[0m\n\u001b[0;32m---> 79\u001b[0;31m             raise UnitConversionError(\n\u001b[0m\u001b[1;32m     80\u001b[0m                 \u001b[0;34m\"Can only apply '{}' function to quantities \"\u001b[0m\u001b[0;34m\u001b[0m\u001b[0;34m\u001b[0m\u001b[0m\n\u001b[1;32m     81\u001b[0m                 \u001b[0;34m\"with compatible dimensions\"\u001b[0m\u001b[0;34m\u001b[0m\u001b[0;34m\u001b[0m\u001b[0m\n",
      "\u001b[0;31mUnitConversionError\u001b[0m: Can only apply 'add' function to quantities with compatible dimensions"
     ]
    }
   ],
   "source": [
    "3 * u.m + 4 * u.N"
   ]
  },
  {
   "cell_type": "code",
   "execution_count": 23,
   "id": "3a4eb579",
   "metadata": {},
   "outputs": [
    {
     "ename": "UnitConversionError",
     "evalue": "'eV' (energy) and 'K' (temperature) are not convertible",
     "output_type": "error",
     "traceback": [
      "\u001b[0;31m---------------------------------------------------------------------------\u001b[0m",
      "\u001b[0;31mUnitConversionError\u001b[0m                       Traceback (most recent call last)",
      "\u001b[0;32m<ipython-input-23-eb654cfe33c1>\u001b[0m in \u001b[0;36m<module>\u001b[0;34m\u001b[0m\n\u001b[0;32m----> 1\u001b[0;31m \u001b[0;34m(\u001b[0m\u001b[0;36m1\u001b[0m \u001b[0;34m*\u001b[0m \u001b[0mu\u001b[0m\u001b[0;34m.\u001b[0m\u001b[0meV\u001b[0m\u001b[0;34m)\u001b[0m\u001b[0;34m.\u001b[0m\u001b[0mto\u001b[0m\u001b[0;34m(\u001b[0m\u001b[0;34m'K'\u001b[0m\u001b[0;34m)\u001b[0m\u001b[0;34m\u001b[0m\u001b[0;34m\u001b[0m\u001b[0m\n\u001b[0m",
      "\u001b[0;32m~/.miniconda/envs/SULI/lib/python3.9/site-packages/astropy/units/quantity.py\u001b[0m in \u001b[0;36mto\u001b[0;34m(self, unit, equivalencies, copy)\u001b[0m\n\u001b[1;32m    696\u001b[0m             \u001b[0;31m# Avoid using to_value to ensure that we make a copy. We also\u001b[0m\u001b[0;34m\u001b[0m\u001b[0;34m\u001b[0m\u001b[0;34m\u001b[0m\u001b[0m\n\u001b[1;32m    697\u001b[0m             \u001b[0;31m# don't want to slow down this method (esp. the scalar case).\u001b[0m\u001b[0;34m\u001b[0m\u001b[0;34m\u001b[0m\u001b[0;34m\u001b[0m\u001b[0m\n\u001b[0;32m--> 698\u001b[0;31m             \u001b[0mvalue\u001b[0m \u001b[0;34m=\u001b[0m \u001b[0mself\u001b[0m\u001b[0;34m.\u001b[0m\u001b[0m_to_value\u001b[0m\u001b[0;34m(\u001b[0m\u001b[0munit\u001b[0m\u001b[0;34m,\u001b[0m \u001b[0mequivalencies\u001b[0m\u001b[0;34m)\u001b[0m\u001b[0;34m\u001b[0m\u001b[0;34m\u001b[0m\u001b[0m\n\u001b[0m\u001b[1;32m    699\u001b[0m         \u001b[0;32melse\u001b[0m\u001b[0;34m:\u001b[0m\u001b[0;34m\u001b[0m\u001b[0;34m\u001b[0m\u001b[0m\n\u001b[1;32m    700\u001b[0m             \u001b[0;31m# to_value only copies if necessary\u001b[0m\u001b[0;34m\u001b[0m\u001b[0;34m\u001b[0m\u001b[0;34m\u001b[0m\u001b[0m\n",
      "\u001b[0;32m~/.miniconda/envs/SULI/lib/python3.9/site-packages/astropy/units/quantity.py\u001b[0m in \u001b[0;36m_to_value\u001b[0;34m(self, unit, equivalencies)\u001b[0m\n\u001b[1;32m    660\u001b[0m         \u001b[0;32mif\u001b[0m \u001b[0mequivalencies\u001b[0m \u001b[0;34m==\u001b[0m \u001b[0;34m[\u001b[0m\u001b[0;34m]\u001b[0m\u001b[0;34m:\u001b[0m\u001b[0;34m\u001b[0m\u001b[0;34m\u001b[0m\u001b[0m\n\u001b[1;32m    661\u001b[0m             \u001b[0mequivalencies\u001b[0m \u001b[0;34m=\u001b[0m \u001b[0mself\u001b[0m\u001b[0;34m.\u001b[0m\u001b[0m_equivalencies\u001b[0m\u001b[0;34m\u001b[0m\u001b[0;34m\u001b[0m\u001b[0m\n\u001b[0;32m--> 662\u001b[0;31m         return self.unit.to(unit, self.view(np.ndarray),\n\u001b[0m\u001b[1;32m    663\u001b[0m                             equivalencies=equivalencies)\n\u001b[1;32m    664\u001b[0m \u001b[0;34m\u001b[0m\u001b[0m\n",
      "\u001b[0;32m~/.miniconda/envs/SULI/lib/python3.9/site-packages/astropy/units/core.py\u001b[0m in \u001b[0;36mto\u001b[0;34m(self, other, value, equivalencies)\u001b[0m\n\u001b[1;32m    985\u001b[0m             \u001b[0;32mreturn\u001b[0m \u001b[0mUNITY\u001b[0m\u001b[0;34m\u001b[0m\u001b[0;34m\u001b[0m\u001b[0m\n\u001b[1;32m    986\u001b[0m         \u001b[0;32melse\u001b[0m\u001b[0;34m:\u001b[0m\u001b[0;34m\u001b[0m\u001b[0;34m\u001b[0m\u001b[0m\n\u001b[0;32m--> 987\u001b[0;31m             \u001b[0;32mreturn\u001b[0m \u001b[0mself\u001b[0m\u001b[0;34m.\u001b[0m\u001b[0m_get_converter\u001b[0m\u001b[0;34m(\u001b[0m\u001b[0mother\u001b[0m\u001b[0;34m,\u001b[0m \u001b[0mequivalencies\u001b[0m\u001b[0;34m=\u001b[0m\u001b[0mequivalencies\u001b[0m\u001b[0;34m)\u001b[0m\u001b[0;34m(\u001b[0m\u001b[0mvalue\u001b[0m\u001b[0;34m)\u001b[0m\u001b[0;34m\u001b[0m\u001b[0;34m\u001b[0m\u001b[0m\n\u001b[0m\u001b[1;32m    988\u001b[0m \u001b[0;34m\u001b[0m\u001b[0m\n\u001b[1;32m    989\u001b[0m     \u001b[0;32mdef\u001b[0m \u001b[0min_units\u001b[0m\u001b[0;34m(\u001b[0m\u001b[0mself\u001b[0m\u001b[0;34m,\u001b[0m \u001b[0mother\u001b[0m\u001b[0;34m,\u001b[0m \u001b[0mvalue\u001b[0m\u001b[0;34m=\u001b[0m\u001b[0;36m1.0\u001b[0m\u001b[0;34m,\u001b[0m \u001b[0mequivalencies\u001b[0m\u001b[0;34m=\u001b[0m\u001b[0;34m[\u001b[0m\u001b[0;34m]\u001b[0m\u001b[0;34m)\u001b[0m\u001b[0;34m:\u001b[0m\u001b[0;34m\u001b[0m\u001b[0;34m\u001b[0m\u001b[0m\n",
      "\u001b[0;32m~/.miniconda/envs/SULI/lib/python3.9/site-packages/astropy/units/core.py\u001b[0m in \u001b[0;36m_get_converter\u001b[0;34m(self, other, equivalencies)\u001b[0m\n\u001b[1;32m    916\u001b[0m                             \u001b[0;32mpass\u001b[0m\u001b[0;34m\u001b[0m\u001b[0;34m\u001b[0m\u001b[0m\n\u001b[1;32m    917\u001b[0m \u001b[0;34m\u001b[0m\u001b[0m\n\u001b[0;32m--> 918\u001b[0;31m             \u001b[0;32mraise\u001b[0m \u001b[0mexc\u001b[0m\u001b[0;34m\u001b[0m\u001b[0;34m\u001b[0m\u001b[0m\n\u001b[0m\u001b[1;32m    919\u001b[0m \u001b[0;34m\u001b[0m\u001b[0m\n\u001b[1;32m    920\u001b[0m     \u001b[0;32mdef\u001b[0m \u001b[0m_to\u001b[0m\u001b[0;34m(\u001b[0m\u001b[0mself\u001b[0m\u001b[0;34m,\u001b[0m \u001b[0mother\u001b[0m\u001b[0;34m)\u001b[0m\u001b[0;34m:\u001b[0m\u001b[0;34m\u001b[0m\u001b[0;34m\u001b[0m\u001b[0m\n",
      "\u001b[0;32m~/.miniconda/envs/SULI/lib/python3.9/site-packages/astropy/units/core.py\u001b[0m in \u001b[0;36m_get_converter\u001b[0;34m(self, other, equivalencies)\u001b[0m\n\u001b[1;32m    901\u001b[0m         \u001b[0;31m# if that doesn't work, maybe we can do it with equivalencies?\u001b[0m\u001b[0;34m\u001b[0m\u001b[0;34m\u001b[0m\u001b[0;34m\u001b[0m\u001b[0m\n\u001b[1;32m    902\u001b[0m         \u001b[0;32mtry\u001b[0m\u001b[0;34m:\u001b[0m\u001b[0;34m\u001b[0m\u001b[0;34m\u001b[0m\u001b[0m\n\u001b[0;32m--> 903\u001b[0;31m             return self._apply_equivalencies(\n\u001b[0m\u001b[1;32m    904\u001b[0m                 self, other, self._normalize_equivalencies(equivalencies))\n\u001b[1;32m    905\u001b[0m         \u001b[0;32mexcept\u001b[0m \u001b[0mUnitsError\u001b[0m \u001b[0;32mas\u001b[0m \u001b[0mexc\u001b[0m\u001b[0;34m:\u001b[0m\u001b[0;34m\u001b[0m\u001b[0;34m\u001b[0m\u001b[0m\n",
      "\u001b[0;32m~/.miniconda/envs/SULI/lib/python3.9/site-packages/astropy/units/core.py\u001b[0m in \u001b[0;36m_apply_equivalencies\u001b[0;34m(self, unit, other, equivalencies)\u001b[0m\n\u001b[1;32m    884\u001b[0m         \u001b[0mother_str\u001b[0m \u001b[0;34m=\u001b[0m \u001b[0mget_err_str\u001b[0m\u001b[0;34m(\u001b[0m\u001b[0mother\u001b[0m\u001b[0;34m)\u001b[0m\u001b[0;34m\u001b[0m\u001b[0;34m\u001b[0m\u001b[0m\n\u001b[1;32m    885\u001b[0m \u001b[0;34m\u001b[0m\u001b[0m\n\u001b[0;32m--> 886\u001b[0;31m         raise UnitConversionError(\n\u001b[0m\u001b[1;32m    887\u001b[0m             \"{} and {} are not convertible\".format(\n\u001b[1;32m    888\u001b[0m                 unit_str, other_str))\n",
      "\u001b[0;31mUnitConversionError\u001b[0m: 'eV' (energy) and 'K' (temperature) are not convertible"
     ]
    }
   ],
   "source": [
    "(1 * u.eV).to('K')"
   ]
  },
  {
   "cell_type": "code",
   "execution_count": 24,
   "id": "13eaf75a",
   "metadata": {},
   "outputs": [
    {
     "data": {
      "text/latex": [
       "$11604.518 \\; \\mathrm{K}$"
      ],
      "text/plain": [
       "<Quantity 11604.51812155 K>"
      ]
     },
     "execution_count": 24,
     "metadata": {},
     "output_type": "execute_result"
    }
   ],
   "source": [
    "(1 * u.eV).to('K', equivalencies=u.temperature_energy())"
   ]
  },
  {
   "cell_type": "code",
   "execution_count": 25,
   "id": "781b9b69",
   "metadata": {},
   "outputs": [
    {
     "data": {
      "text/latex": [
       "$1 \\; \\mathrm{Mpc\\,barn}$"
      ],
      "text/plain": [
       "<Quantity 1. barn Mpc>"
      ]
     },
     "execution_count": 25,
     "metadata": {},
     "output_type": "execute_result"
    }
   ],
   "source": [
    "(1 * u.barn * u.Mpc)"
   ]
  },
  {
   "cell_type": "code",
   "execution_count": 26,
   "id": "061ea1c7",
   "metadata": {},
   "outputs": [
    {
     "data": {
      "text/latex": [
       "$0.62603503 \\; \\mathrm{tsp}$"
      ],
      "text/plain": [
       "<Quantity 0.62603503 tsp>"
      ]
     },
     "execution_count": 26,
     "metadata": {},
     "output_type": "execute_result"
    }
   ],
   "source": [
    "(1 * u.barn * u.Mpc).to(u.imperial.tsp)"
   ]
  },
  {
   "cell_type": "code",
   "execution_count": 27,
   "id": "328aa704",
   "metadata": {},
   "outputs": [],
   "source": [
    "import astropy.constants as const"
   ]
  },
  {
   "cell_type": "code",
   "execution_count": 28,
   "id": "c65128df",
   "metadata": {},
   "outputs": [
    {
     "data": {
      "text/latex": [
       "$2.9979246 \\times 10^{8} \\; \\mathrm{\\frac{m}{s}}$"
      ],
      "text/plain": [
       "<<class 'astropy.constants.codata2018.CODATA2018'> name='Speed of light in vacuum' value=299792458.0 uncertainty=0.0 unit='m / s' reference='CODATA 2018'>"
      ]
     },
     "execution_count": 28,
     "metadata": {},
     "output_type": "execute_result"
    }
   ],
   "source": [
    "const.c"
   ]
  },
  {
   "cell_type": "code",
   "execution_count": 29,
   "id": "45029704",
   "metadata": {},
   "outputs": [
    {
     "data": {
      "text/latex": [
       "$6.6743 \\times 10^{-11} \\; \\mathrm{\\frac{m^{3}}{kg\\,s^{2}}}$"
      ],
      "text/plain": [
       "<<class 'astropy.constants.codata2018.CODATA2018'> name='Gravitational constant' value=6.6743e-11 uncertainty=1.5e-15 unit='m3 / (kg s2)' reference='CODATA 2018'>"
      ]
     },
     "execution_count": 29,
     "metadata": {},
     "output_type": "execute_result"
    }
   ],
   "source": [
    "const.G"
   ]
  },
  {
   "cell_type": "code",
   "execution_count": 30,
   "id": "03ae04b8",
   "metadata": {},
   "outputs": [
    {
     "data": {
      "text/latex": [
       "$3.828 \\times 10^{26} \\; \\mathrm{W}$"
      ],
      "text/plain": [
       "<<class 'astropy.constants.iau2015.IAU2015'> name='Nominal solar luminosity' value=3.828e+26 uncertainty=0.0 unit='W' reference='IAU 2015 Resolution B 3'>"
      ]
     },
     "execution_count": 30,
     "metadata": {},
     "output_type": "execute_result"
    }
   ],
   "source": [
    "const.L_sun"
   ]
  },
  {
   "cell_type": "code",
   "execution_count": 31,
   "id": "9774cad5",
   "metadata": {},
   "outputs": [
    {
     "data": {
      "text/latex": [
       "$8.8541878 \\times 10^{-12} \\; \\mathrm{\\frac{F}{m}}$"
      ],
      "text/plain": [
       "<<class 'astropy.constants.codata2018.EMCODATA2018'> name='Vacuum electric permittivity' value=8.8541878128e-12 uncertainty=1.3e-21 unit='F / m' reference='CODATA 2018'>"
      ]
     },
     "execution_count": 31,
     "metadata": {},
     "output_type": "execute_result"
    }
   ],
   "source": [
    "const.eps0"
   ]
  },
  {
   "cell_type": "code",
   "execution_count": 32,
   "id": "320d1ff1",
   "metadata": {},
   "outputs": [
    {
     "data": {
      "text/latex": [
       "$1.2566371 \\times 10^{-6} \\; \\mathrm{\\frac{N}{A^{2}}}$"
      ],
      "text/plain": [
       "<<class 'astropy.constants.codata2018.CODATA2018'> name='Vacuum magnetic permeability' value=1.25663706212e-06 uncertainty=1.9e-16 unit='N / A2' reference='CODATA 2018'>"
      ]
     },
     "execution_count": 32,
     "metadata": {},
     "output_type": "execute_result"
    }
   ],
   "source": [
    "const.mu0"
   ]
  },
  {
   "cell_type": "code",
   "execution_count": 33,
   "id": "56b2e9b7",
   "metadata": {},
   "outputs": [
    {
     "data": {
      "text/plain": [
       "['Constant',\n",
       " 'EMConstant',\n",
       " 'G',\n",
       " 'GM_earth',\n",
       " 'GM_jup',\n",
       " 'GM_sun',\n",
       " 'L_bol0',\n",
       " 'L_sun',\n",
       " 'M_earth',\n",
       " 'M_jup',\n",
       " 'M_sun',\n",
       " 'N_A',\n",
       " 'R',\n",
       " 'R_earth',\n",
       " 'R_jup',\n",
       " 'R_sun',\n",
       " 'Ryd',\n",
       " '__builtins__',\n",
       " '__cached__',\n",
       " '__doc__',\n",
       " '__file__',\n",
       " '__loader__',\n",
       " '__name__',\n",
       " '__package__',\n",
       " '__path__',\n",
       " '__spec__',\n",
       " 'a0',\n",
       " 'alpha',\n",
       " 'atm',\n",
       " 'au',\n",
       " 'b_wien',\n",
       " 'c',\n",
       " 'cgs',\n",
       " 'codata',\n",
       " 'codata2010',\n",
       " 'codata2018',\n",
       " 'config',\n",
       " 'constant',\n",
       " 'e',\n",
       " 'eps0',\n",
       " 'g0',\n",
       " 'h',\n",
       " 'hbar',\n",
       " 'iau2015',\n",
       " 'iaudata',\n",
       " 'k_B',\n",
       " 'kpc',\n",
       " 'm_e',\n",
       " 'm_n',\n",
       " 'm_p',\n",
       " 'mu0',\n",
       " 'muB',\n",
       " 'pc',\n",
       " 'set_enabled_constants',\n",
       " 'si',\n",
       " 'sigma_T',\n",
       " 'sigma_sb',\n",
       " 'u',\n",
       " 'utils']"
      ]
     },
     "execution_count": 33,
     "metadata": {},
     "output_type": "execute_result"
    }
   ],
   "source": [
    "dir(const)"
   ]
  },
  {
   "cell_type": "code",
   "execution_count": 34,
   "id": "7b4fb93e",
   "metadata": {},
   "outputs": [],
   "source": [
    "from plasmapy.particles import *"
   ]
  },
  {
   "cell_type": "code",
   "execution_count": 35,
   "id": "659049c8",
   "metadata": {},
   "outputs": [
    {
     "data": {
      "text/plain": [
       "26"
      ]
     },
     "execution_count": 35,
     "metadata": {},
     "output_type": "execute_result"
    }
   ],
   "source": [
    "atomic_number(\"Fe\")"
   ]
  },
  {
   "cell_type": "code",
   "execution_count": 36,
   "id": "f72d1f5b",
   "metadata": {},
   "outputs": [
    {
     "data": {
      "text/plain": [
       "'Og'"
      ]
     },
     "execution_count": 36,
     "metadata": {},
     "output_type": "execute_result"
    }
   ],
   "source": [
    "atomic_symbol(\"oganesson\")"
   ]
  },
  {
   "cell_type": "code",
   "execution_count": 37,
   "id": "ef54cab7",
   "metadata": {},
   "outputs": [
    {
     "data": {
      "text/plain": [
       "'iron'"
      ]
     },
     "execution_count": 37,
     "metadata": {},
     "output_type": "execute_result"
    }
   ],
   "source": [
    "element_name(26)"
   ]
  },
  {
   "cell_type": "code",
   "execution_count": 38,
   "id": "682e3445",
   "metadata": {},
   "outputs": [
    {
     "data": {
      "text/latex": [
       "$1.6021766 \\times 10^{-19} \\; \\mathrm{C}$"
      ],
      "text/plain": [
       "<<class 'astropy.constants.codata2018.EMCODATA2018'> name='Electron charge' value=1.602176634e-19 uncertainty=0.0 unit='C' reference='CODATA 2018'>"
      ]
     },
     "execution_count": 38,
     "metadata": {},
     "output_type": "execute_result"
    }
   ],
   "source": [
    "electric_charge(\"p+\")"
   ]
  },
  {
   "cell_type": "code",
   "execution_count": 40,
   "id": "be7fd80d",
   "metadata": {},
   "outputs": [
    {
     "data": {
      "text/plain": [
       "-1"
      ]
     },
     "execution_count": 40,
     "metadata": {},
     "output_type": "execute_result"
    }
   ],
   "source": [
    "integer_charge(\"electron\")"
   ]
  },
  {
   "cell_type": "code",
   "execution_count": 41,
   "id": "63ac9964",
   "metadata": {},
   "outputs": [
    {
     "data": {
      "text/plain": [
       "4"
      ]
     },
     "execution_count": 41,
     "metadata": {},
     "output_type": "execute_result"
    }
   ],
   "source": [
    "mass_number(\"alpha\")"
   ]
  },
  {
   "cell_type": "code",
   "execution_count": 42,
   "id": "332cbabe",
   "metadata": {},
   "outputs": [
    {
     "data": {
      "text/plain": [
       "4"
      ]
     },
     "execution_count": 42,
     "metadata": {},
     "output_type": "execute_result"
    }
   ],
   "source": [
    "mass_number(\"α\")"
   ]
  },
  {
   "cell_type": "code",
   "execution_count": 43,
   "id": "9dfd2a23",
   "metadata": {},
   "outputs": [
    {
     "data": {
      "text/latex": [
       "$9.2870305 \\times 10^{-26} \\; \\mathrm{kg}$"
      ],
      "text/plain": [
       "<Quantity 9.28703048e-26 kg>"
      ]
     },
     "execution_count": 43,
     "metadata": {},
     "output_type": "execute_result"
    }
   ],
   "source": [
    "particle_mass(\"Fe-56 13+\")"
   ]
  },
  {
   "cell_type": "code",
   "execution_count": 44,
   "id": "7b6fe017",
   "metadata": {},
   "outputs": [
    {
     "data": {
      "text/latex": [
       "$9.2870305 \\times 10^{-26} \\; \\mathrm{kg}$"
      ],
      "text/plain": [
       "<Quantity 9.28703048e-26 kg>"
      ]
     },
     "execution_count": 44,
     "metadata": {},
     "output_type": "execute_result"
    }
   ],
   "source": [
    "particle_mass(\"Fe-56 +13\")"
   ]
  },
  {
   "cell_type": "code",
   "execution_count": 45,
   "id": "9cc4c8a3",
   "metadata": {},
   "outputs": [
    {
     "data": {
      "text/latex": [
       "$9.2870305 \\times 10^{-26} \\; \\mathrm{kg}$"
      ],
      "text/plain": [
       "<Quantity 9.28703048e-26 kg>"
      ]
     },
     "execution_count": 45,
     "metadata": {},
     "output_type": "execute_result"
    }
   ],
   "source": [
    "particle_mass(\"iron-56+++++++++++++\")"
   ]
  },
  {
   "cell_type": "code",
   "execution_count": 46,
   "id": "046ee9a9",
   "metadata": {},
   "outputs": [
    {
     "data": {
      "text/latex": [
       "$9.2870305 \\times 10^{-26} \\; \\mathrm{kg}$"
      ],
      "text/plain": [
       "<Quantity 9.28703048e-26 kg>"
      ]
     },
     "execution_count": 46,
     "metadata": {},
     "output_type": "execute_result"
    }
   ],
   "source": [
    "particle_mass(\"Fe\", mass_numb=56, Z=13)"
   ]
  },
  {
   "cell_type": "code",
   "execution_count": 47,
   "id": "b54a3c4e",
   "metadata": {},
   "outputs": [],
   "source": [
    "proton = Particle(\"p+\")"
   ]
  },
  {
   "cell_type": "code",
   "execution_count": 48,
   "id": "aa2c962c",
   "metadata": {},
   "outputs": [],
   "source": [
    "electron = Particle(\"electron\")"
   ]
  },
  {
   "cell_type": "code",
   "execution_count": 49,
   "id": "588e1ed6",
   "metadata": {},
   "outputs": [],
   "source": [
    "iron56_nuclide = Particle(\"Fe\", Z=26, mass_numb=56)"
   ]
  },
  {
   "cell_type": "code",
   "execution_count": 50,
   "id": "f8206d69",
   "metadata": {},
   "outputs": [
    {
     "data": {
      "text/latex": [
       "$1.6726219 \\times 10^{-27} \\; \\mathrm{kg}$"
      ],
      "text/plain": [
       "<Quantity 1.67262192e-27 kg>"
      ]
     },
     "execution_count": 50,
     "metadata": {},
     "output_type": "execute_result"
    }
   ],
   "source": [
    "proton.mass"
   ]
  },
  {
   "cell_type": "code",
   "execution_count": 51,
   "id": "3cc01ea5",
   "metadata": {},
   "outputs": [
    {
     "data": {
      "text/latex": [
       "$-1.6021766 \\times 10^{-19} \\; \\mathrm{C}$"
      ],
      "text/plain": [
       "<Quantity -1.60217663e-19 C>"
      ]
     },
     "execution_count": 51,
     "metadata": {},
     "output_type": "execute_result"
    }
   ],
   "source": [
    "electron.charge"
   ]
  },
  {
   "cell_type": "code",
   "execution_count": 52,
   "id": "61f9daa1",
   "metadata": {},
   "outputs": [
    {
     "data": {
      "text/latex": [
       "$7.8868678 \\times 10^{-11} \\; \\mathrm{J}$"
      ],
      "text/plain": [
       "<Quantity 7.88686781e-11 J>"
      ]
     },
     "execution_count": 52,
     "metadata": {},
     "output_type": "execute_result"
    }
   ],
   "source": [
    "iron56_nuclide.binding_energy"
   ]
  },
  {
   "cell_type": "code",
   "execution_count": 53,
   "id": "a41635c9",
   "metadata": {},
   "outputs": [
    {
     "data": {
      "text/plain": [
       "Particle(\"e+\")"
      ]
     },
     "execution_count": 53,
     "metadata": {},
     "output_type": "execute_result"
    }
   ],
   "source": [
    "electron.antiparticle"
   ]
  },
  {
   "cell_type": "code",
   "execution_count": 54,
   "id": "9e7ddf5a",
   "metadata": {},
   "outputs": [
    {
     "data": {
      "text/plain": [
       "Particle(\"p-\")"
      ]
     },
     "execution_count": 54,
     "metadata": {},
     "output_type": "execute_result"
    }
   ],
   "source": [
    "~ proton"
   ]
  },
  {
   "cell_type": "code",
   "execution_count": 56,
   "id": "4b8f4878",
   "metadata": {},
   "outputs": [
    {
     "data": {
      "text/plain": [
       "ParticleList(['e-', 'p+'])"
      ]
     },
     "execution_count": 56,
     "metadata": {},
     "output_type": "execute_result"
    }
   ],
   "source": [
    "electron + proton"
   ]
  },
  {
   "cell_type": "code",
   "execution_count": 57,
   "id": "14db6f37",
   "metadata": {},
   "outputs": [],
   "source": [
    "iron_ions = ParticleList([\"Fe 12+\", \"Fe 13+\", \"Fe 14+\"])"
   ]
  },
  {
   "cell_type": "code",
   "execution_count": 58,
   "id": "0b5e3bea",
   "metadata": {},
   "outputs": [
    {
     "data": {
      "text/latex": [
       "$[9.2721873 \\times 10^{-26},~9.2720962 \\times 10^{-26},~9.2720051 \\times 10^{-26}] \\; \\mathrm{kg}$"
      ],
      "text/plain": [
       "<Quantity [9.27218729e-26, 9.27209620e-26, 9.27200510e-26] kg>"
      ]
     },
     "execution_count": 58,
     "metadata": {},
     "output_type": "execute_result"
    }
   ],
   "source": [
    "iron_ions.mass"
   ]
  },
  {
   "cell_type": "code",
   "execution_count": 59,
   "id": "b1953d1a",
   "metadata": {},
   "outputs": [
    {
     "data": {
      "text/latex": [
       "$[1.922612 \\times 10^{-18},~2.0828296 \\times 10^{-18},~2.2430473 \\times 10^{-18}] \\; \\mathrm{C}$"
      ],
      "text/plain": [
       "<Quantity [1.92261196e-18, 2.08282962e-18, 2.24304729e-18] C>"
      ]
     },
     "execution_count": 59,
     "metadata": {},
     "output_type": "execute_result"
    }
   ],
   "source": [
    "iron_ions.charge"
   ]
  },
  {
   "cell_type": "code",
   "execution_count": 60,
   "id": "3b9869b4",
   "metadata": {},
   "outputs": [
    {
     "data": {
      "text/plain": [
       "['Fe 12+', 'Fe 13+', 'Fe 14+']"
      ]
     },
     "execution_count": 60,
     "metadata": {},
     "output_type": "execute_result"
    }
   ],
   "source": [
    "iron_ions.symbols"
   ]
  },
  {
   "cell_type": "code",
   "execution_count": 61,
   "id": "85b0d8a1",
   "metadata": {},
   "outputs": [],
   "source": [
    "deuteron = Particle(\"D+\")\n",
    "triton = Particle(\"T+\")\n",
    "alpha = Particle(\"α\")\n",
    "neutron = Particle(\"n\")"
   ]
  },
  {
   "cell_type": "code",
   "execution_count": 64,
   "id": "1d99e1e9",
   "metadata": {},
   "outputs": [
    {
     "data": {
      "text/latex": [
       "$17.589253 \\; \\mathrm{MeV}$"
      ],
      "text/plain": [
       "<Quantity 17.58925276 MeV>"
      ]
     },
     "execution_count": 64,
     "metadata": {},
     "output_type": "execute_result"
    }
   ],
   "source": [
    "(deuteron + triton > alpha + neutron).to('MeV')"
   ]
  },
  {
   "cell_type": "code",
   "execution_count": 65,
   "id": "d9cd1cb3",
   "metadata": {},
   "outputs": [],
   "source": [
    "from plasmapy.formulary import *"
   ]
  },
  {
   "cell_type": "code",
   "execution_count": 66,
   "id": "102e7cb7",
   "metadata": {},
   "outputs": [],
   "source": [
    "n = 5 * u.cm ** -3\n",
    "B = 5 * u.nT\n",
    "T = 1e5 * u.K"
   ]
  },
  {
   "cell_type": "code",
   "execution_count": 67,
   "id": "56d1d622",
   "metadata": {},
   "outputs": [
    {
     "data": {
      "text/latex": [
       "$48.759916 \\; \\mathrm{\\frac{km}{s}}$"
      ],
      "text/plain": [
       "<Quantity 48.75991588 km / s>"
      ]
     },
     "execution_count": 67,
     "metadata": {},
     "output_type": "execute_result"
    }
   ],
   "source": [
    "Alfven_speed(B, n, \"p+\").to('km/s')"
   ]
  },
  {
   "cell_type": "code",
   "execution_count": 69,
   "id": "03908f7c",
   "metadata": {},
   "outputs": [
    {
     "data": {
      "text/latex": [
       "$0.015966409 \\; \\mathrm{}$"
      ],
      "text/plain": [
       "<Quantity 0.01596641>"
      ]
     },
     "execution_count": 69,
     "metadata": {},
     "output_type": "execute_result"
    }
   ],
   "source": [
    "inertial_length(n, \"p+\") / const.R_earth"
   ]
  },
  {
   "cell_type": "code",
   "execution_count": 70,
   "id": "adfe41a0",
   "metadata": {},
   "outputs": [
    {
     "name": "stdout",
     "output_type": "stream",
     "text": [
      "Help on function inertial_length in module plasmapy.formulary.parameters:\n",
      "\n",
      "inertial_length(n: Unit(\"1 / m3\"), particle: plasmapy.particles.particle_class.Particle) -> Unit(\"m\")\n",
      "    Calculate a charged particle's inertial length.\n",
      "    \n",
      "    **Aliases:** `cwp_`\n",
      "    \n",
      "    Parameters\n",
      "    ----------\n",
      "    n : `~astropy.units.Quantity`\n",
      "        Particle number density in units convertible to m\\ :sup:`-3`\\ .\n",
      "    \n",
      "    particle : `~plasmapy.particles.Particle`\n",
      "        Representation of the particle species (e.g., 'p+' for protons,\n",
      "        'D+' for deuterium, or 'He-4 +1' for singly ionized helium-4).\n",
      "    \n",
      "    Returns\n",
      "    -------\n",
      "    d : `~astropy.units.Quantity`\n",
      "        The particle's inertial length in meters.\n",
      "    \n",
      "    Raises\n",
      "    ------\n",
      "    `TypeError`\n",
      "        If ``n`` is not a `~astropy.units.Quantity` or ``particle`` is\n",
      "        not a string.\n",
      "    \n",
      "    `~astropy.units.UnitConversionError`\n",
      "        If ``n`` is not in units of a number density.\n",
      "    \n",
      "    `ValueError`\n",
      "        The particle density does not have an appropriate value.\n",
      "    \n",
      "    Warns\n",
      "    -----\n",
      "    : `~astropy.units.UnitsWarning`\n",
      "        If units are not provided and SI units are assumed.\n",
      "    \n",
      "    Notes\n",
      "    -----\n",
      "    The inertial length of a particle of species :math:`s` is given by\n",
      "    \n",
      "    .. math::\n",
      "        d = \\frac{c}{ω_{ps}}\n",
      "    \n",
      "    The inertial length is the characteristic length scale for a\n",
      "    particle to be accelerated in a plasma.  The Hall effect becomes\n",
      "    important on length scales shorter than the ion inertial length.\n",
      "    \n",
      "    The inertial length is also known as the skin depth.\n",
      "    \n",
      "    Example\n",
      "    -------\n",
      "    >>> from astropy import units as u\n",
      "    >>> inertial_length(5 * u.m ** -3, 'He+')\n",
      "    <Quantity 2.02985...e+08 m>\n",
      "    >>> inertial_length(5 * u.m ** -3, 'e-')\n",
      "    <Quantity 2376534.75... m>\n",
      "\n"
     ]
    }
   ],
   "source": [
    "help(inertial_length)"
   ]
  },
  {
   "cell_type": "code",
   "execution_count": 71,
   "id": "7b4b40d6",
   "metadata": {},
   "outputs": [
    {
     "name": "stdout",
     "output_type": "stream",
     "text": [
      "Help on function upper_hybrid_frequency in module plasmapy.formulary.parameters:\n",
      "\n",
      "upper_hybrid_frequency(B: Unit(\"T\"), n_e: Unit(\"1 / m3\"), to_hz=False) -> Unit(\"rad / s\")\n",
      "    Return the upper hybrid frequency.\n",
      "    \n",
      "    **Aliases:** `wuh_`\n",
      "    \n",
      "    Parameters\n",
      "    ----------\n",
      "    B : `~astropy.units.Quantity`\n",
      "        The magnetic field magnitude in units convertible to tesla.\n",
      "    \n",
      "    n_e : `~astropy.units.Quantity`\n",
      "        The electron number density.\n",
      "    \n",
      "    Returns\n",
      "    -------\n",
      "    omega_uh : `~astropy.units.Quantity`\n",
      "        The upper hybrid frequency in radians per second.\n",
      "    \n",
      "    Raises\n",
      "    ------\n",
      "    `TypeError`\n",
      "        If either of ``B`` or ``n_e`` is not a `~astropy.units.Quantity`.\n",
      "    \n",
      "    `~astropy.units.UnitConversionError`\n",
      "        If either of ``B`` or ``n_e`` is in incorrect units.\n",
      "    \n",
      "    `ValueError`\n",
      "        If either of ``B`` or ``n_e`` contains invalid values or are of\n",
      "        incompatible dimensions.\n",
      "    \n",
      "    Warns\n",
      "    -----\n",
      "    : `~astropy.units.UnitsWarning`\n",
      "        If units are not provided, SI units are assumed.\n",
      "    \n",
      "    Notes\n",
      "    -----\n",
      "    The upper hybrid frequency is given through the relation\n",
      "    \n",
      "    .. math::\n",
      "        ω_{uh}^2 = ω_{ce}^2 + ω_{pe}^2\n",
      "    \n",
      "    where :math:`ω_{ce}` is the electron gyrofrequency and\n",
      "    :math:`ω_{pe}` is the electron plasma frequency.\n",
      "    \n",
      "    Example\n",
      "    -------\n",
      "    >>> from astropy import units as u\n",
      "    >>> upper_hybrid_frequency(0.2*u.T, n_e=5e19*u.m**-3)\n",
      "    <Quantity 4.00459...e+11 rad / s>\n",
      "    >>> upper_hybrid_frequency(0.2*u.T, n_e=5e19*u.m**-3, to_hz = True)\n",
      "    <Quantity 6.37350...e+10 Hz>\n",
      "    \n",
      "    \n",
      "    Other Parameters\n",
      "    ----------------\n",
      "    to_hz: bool\n",
      "        Set `True` to to convert function output from angular frequency to Hz\n",
      "\n"
     ]
    }
   ],
   "source": [
    "help(upper_hybrid_frequency)"
   ]
  },
  {
   "cell_type": "code",
   "execution_count": 73,
   "id": "0f778a98",
   "metadata": {},
   "outputs": [],
   "source": [
    "antiparticle_pair = electron + positron"
   ]
  },
  {
   "cell_type": "code",
   "execution_count": 75,
   "id": "3a40348c",
   "metadata": {},
   "outputs": [
    {
     "ename": "NameError",
     "evalue": "name 'np' is not defined",
     "output_type": "error",
     "traceback": [
      "\u001b[0;31m---------------------------------------------------------------------------\u001b[0m",
      "\u001b[0;31mNameError\u001b[0m                                 Traceback (most recent call last)",
      "\u001b[0;32m<ipython-input-75-3d9355f67e1d>\u001b[0m in \u001b[0;36m<module>\u001b[0;34m\u001b[0m\n\u001b[0;32m----> 1\u001b[0;31m \u001b[0mnp\u001b[0m\u001b[0;34m.\u001b[0m\u001b[0msum\u001b[0m\u001b[0;34m(\u001b[0m\u001b[0mantiparticle_pair\u001b[0m\u001b[0;34m.\u001b[0m\u001b[0mmass_energy\u001b[0m\u001b[0;34m)\u001b[0m\u001b[0;34m\u001b[0m\u001b[0;34m\u001b[0m\u001b[0m\n\u001b[0m",
      "\u001b[0;31mNameError\u001b[0m: name 'np' is not defined"
     ]
    }
   ],
   "source": [
    "import \n",
    "np.sum(antiparticle_pair.mass_energy)"
   ]
  },
  {
   "cell_type": "code",
   "execution_count": null,
   "id": "89ab95b8",
   "metadata": {},
   "outputs": [],
   "source": []
  }
 ],
 "metadata": {
  "kernelspec": {
   "display_name": "Python 3",
   "language": "python",
   "name": "python3"
  },
  "language_info": {
   "codemirror_mode": {
    "name": "ipython",
    "version": 3
   },
   "file_extension": ".py",
   "mimetype": "text/x-python",
   "name": "python",
   "nbconvert_exporter": "python",
   "pygments_lexer": "ipython3",
   "version": "3.9.5"
  }
 },
 "nbformat": 4,
 "nbformat_minor": 5
}
