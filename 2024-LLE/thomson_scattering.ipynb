{
 "cells": [
  {
   "cell_type": "markdown",
   "id": "402e82d8",
   "metadata": {},
   "source": [
    "# PlasmaPy Optical Thomson Scattering Tutorial"
   ]
  },
  {
   "cell_type": "markdown",
   "id": "0c299942-7e7e-45ad-8e11-a7626066e3a2",
   "metadata": {},
   "source": [
    "[thomson]: https://docs.plasmapy.org/en/latest/ad/diagnostics/thomson.html\n",
    "[spectral-density]: https://docs.plasmapy.org/en/latest/api/plasmapy.diagnostics.thomson.spectral_density.html#plasmapy.diagnostics.thomson.spectral_density\n",
    "[froula]: https://www.sciencedirect.com/book/9780123748775/plasma-scattering-of-electromagnetic-radiation\n",
    "\n",
    "Thomson scattering is scattering of an incident photon of of a charged particle (ion or electron) or off of waves in a plasma. The spectrum of the scattered light encodes information about the distribution function of the plasma, and is commonly used to measure the plasma density, temperature, and flow velocity.\n",
    "\n",
    "<center><img src=\"images/ots_setup.png\" width=\"700\"></center>\n",
    "\n",
    "\n",
    "The [thomson.spectral_density][spectral-density] function calculates the [spectral density function S(k,w)][froula], which is one of several terms that determine the scattered power spectrum for the Thomson scattering of a probe laser beam by a plasma. In particular, this function calculates $S(k,w)$ for the case of a plasma consisting of one or more ion species and electron populations under the assumption that all of the ion species and the electron fluid have Maxwellian velocity distribution functions and that the combined plasma is quasi-neutral. In this regime, the spectral density is given by the equation:\n",
    "\n",
    "\\begin{equation}\n",
    "S(k,\\omega) = \\sum_e \\frac{2\\pi}{k} \\bigg |1 - \\frac{\\chi_e}{\\epsilon} \\bigg |^2 f_{e0,e}\\bigg ( \\frac{\\omega}{k} \\bigg ) + \\sum_i \\frac{2\\pi Z_i}{k} \\bigg | \\frac{\\chi_e}{\\epsilon} \\bigg |^2 f_{i0, i} \\bigg ( \\frac{\\omega}{k} \\bigg )\n",
    "\\end{equation}\n",
    "\n",
    "where $\\chi_e$ is the electron component susceptibility of the plasma and $\\epsilon = 1 + \\sum_e \\chi_e + \\sum_i \\chi_i$ is the total plasma dielectric function (with $\\chi_i$ being the ion component of the susceptibility), $Z_i$ is the charge of each ion, $k$ is the scattering wavenumber, $\\omega$ is the scattering frequency, and the functions $f_{e0,e}$ and $f_{i0,i}$ are the Maxwellian velocity distributions for the electrons and ion species respectively.\n",
    "\n",
    "<center><img src=\"images/collective_vs_noncollective_ots.png\"></center>\n",
    "\n",
    "Thomson scattering can be either non-collective (the scattered spectrum is a linear sum of the light scattered by individual particles) or collective (the scattered spectrum is dominated by scattering off of collective plasma waves). The [thomson.spectral_density][spectral-density] function can be used in both cases. These regimes are delineated by the dimensionless constant $\\alpha$:\n",
    "\n",
    "\\begin{equation}\n",
    "\\alpha = \\frac{1}{k \\lambda_{De}}\n",
    "\\end{equation}\n",
    "\n",
    "where $\\lambda_{De}$ is the Debye length. $\\alpha > 1$ corresponds to collective scattering, while $\\alpha < 1$ corresponds to non-collective scattering. Depending on which of these regimes applies, fitting the scattered spectrum can provide the electron (and sometimes ion) density and temperature. Doppler shifting of the spectrum can also provide a measurement of the drift velocity of each plasma species.\n",
    "\n",
    "For a detailed explanation of the underlying physics (and derivations of these expressions), see [\"Plasma Scattering of Electromagnetic Radiation\" by Froula et al.][froula]"
   ]
  },
  {
   "cell_type": "code",
   "execution_count": null,
   "id": "cfbc1b48",
   "metadata": {},
   "outputs": [],
   "source": [
    "import sys\n",
    "\n",
    "if 'google.colab' in str(get_ipython()):\n",
    "    if 'plasmapy' not in sys.modules:\n",
    "        !pip install plasmapy==2023.5.1 requests==2.27.1\n",
    "    \n",
    "%matplotlib inline\n",
    "\n",
    "import astropy.units as u\n",
    "import matplotlib.pyplot as plt\n",
    "import numpy as np\n",
    "\n",
    "from plasmapy.diagnostics import thomson"
   ]
  },
  {
   "cell_type": "markdown",
   "id": "c3ad90be",
   "metadata": {},
   "source": [
    "[PlasmaPy documentation]:https://docs.plasmapy.org/en/latest/ad/diagnostics/thomson.html\n",
    "[spectral_density]: https://docs.plasmapy.org/en/latest/api/plasmapy.diagnostics.thomson.spectral_density.html#plasmapy.diagnostics.thomson.spectral_density\n",
    "\n",
    "This notebook provides a simple example using the [spectral_density] function in PlasmaPy to model Thomson scattering. More examples and documentation can be found in the [PlasmaPy documentation]\n",
    "\n",
    "\n",
    "The first step is to define the scattering geometry, the wavelength of the probe laser, and the wavelength range of the detector"
   ]
  },
  {
   "cell_type": "code",
   "execution_count": null,
   "id": "2fc06392",
   "metadata": {},
   "outputs": [],
   "source": [
    "# The probe wavelength can in theory be anything, but in practice integer frequency multiples of the Nd:YAG wavelength\n",
    "# 1064 nm are used (532 corresponds to a frequency-doubled probe beam from such a laser).\n",
    "probe_wavelength = 532 * u.nm\n",
    "\n",
    "# Array of wavelengths over which to calculate the spectral distribution\n",
    "\n",
    "wavelengths = (\n",
    "    np.linspace(probe_wavelength.value - 30, probe_wavelength.value + 30, num=5000)\n",
    "    * u.nm\n",
    ")\n",
    "\n",
    "\n",
    "# The scattering geometry is defined by unit vectors for the orientation of the probe laser beam (probe_n) and\n",
    "# the path from the scattering volume (where the measurement is made) to the detector (scatter_n).\n",
    "# These can be setup for any experimental geometry - this geometry is typical on the OMEGA laser facility.\n",
    "probe_vec = np.array([1, 0, 0])\n",
    "scattering_angle = np.deg2rad(63)\n",
    "scatter_vec = np.array([np.cos(scattering_angle), np.sin(scattering_angle), 0])"
   ]
  },
  {
   "cell_type": "markdown",
   "id": "bf855384",
   "metadata": {},
   "source": [
    "[spectral_density]: https://docs.plasmapy.org/en/latest/api/plasmapy.diagnostics.thomson.spectral_density.html#plasmapy.diagnostics.thomson.spectral_density\n",
    "Now we will specify a set of plasma parameters, call the [spectral_density] function, and plot the results"
   ]
  },
  {
   "cell_type": "code",
   "execution_count": null,
   "id": "0bb0e211",
   "metadata": {},
   "outputs": [],
   "source": [
    "n = 2e17 * u.cm ** -3\n",
    "T_e = 12 * u.eV\n",
    "T_i = 10 * u.eV\n",
    "ions = 'H+'\n",
    "\n",
    "alpha, Skw = thomson.spectral_density(\n",
    "    wavelengths,\n",
    "    probe_wavelength,\n",
    "    n,\n",
    "    T_e=T_e,\n",
    "    T_i=T_i,\n",
    "    ions = ions,\n",
    "    probe_vec=probe_vec,\n",
    "    scatter_vec=scatter_vec,\n",
    ")"
   ]
  },
  {
   "cell_type": "markdown",
   "id": "ec1aeba0-63fb-4b95-9137-66adfc0633a7",
   "metadata": {},
   "source": [
    "For convenience later, let's define a function that will make a nice plot of the spectral density function"
   ]
  },
  {
   "cell_type": "code",
   "execution_count": null,
   "id": "8e971313",
   "metadata": {
    "scrolled": true
   },
   "outputs": [],
   "source": [
    "# This function makes a plot of the Thomson scattering spectrum\n",
    "def plot_result(wavelengths, alpha, Skw, iaw_range=np.array([528,536])*u.nm):\n",
    "    # Estimate the max of the EPW signal for plotting\n",
    "    a = np.argmin(np.abs(iaw_range[0]-wavelengths))\n",
    "    b = np.argmin(np.abs(iaw_range[1]-wavelengths))\n",
    "    iaw_max = np.max(Skw.value)\n",
    "    epw_max = max([np.max(Skw[0:a].value), np.max(Skw[b:].value)])\n",
    "    \n",
    "    fig, ax = plt.subplots(ncols=2, figsize=(12, 6))\n",
    "    fig.subplots_adjust(wspace=0.2)\n",
    "    \n",
    "    if alpha > 1:\n",
    "        fig.suptitle(f\"alpha = {alpha:.1f} (collective scattering)\")\n",
    "    else:\n",
    "        fig.suptitle(f\"alpha = {alpha:.1f} (noncollective scattering)\")\n",
    "\n",
    "    for x in ax:\n",
    "        x.set_xlabel(\"Wavelength (nm)\")\n",
    "        x.set_ylabel(\"Skw\")\n",
    "        x.axvline(x=probe_wavelength.value, color=\"red\", label=\"Probe wavelength\")\n",
    "    ax[0].tick_params(axis='both', which='major', labelsize=12)\n",
    "    ax[0].set_xlim(520, 545)\n",
    "    ax[0].set_ylim(0, 1.2*epw_max)\n",
    "    ax[0].set_title(\"Electron Plasma Wave\", fontsize=14)\n",
    "    ax[0].plot(wavelengths.value, Skw)\n",
    "    ax[0].legend(loc='upper left', fontsize=12)\n",
    "\n",
    "    ax[1].tick_params(axis='both', which='major', labelsize=12)\n",
    "    ax[1].set_xlim(530, 534)\n",
    "    ax[1].set_ylim(0, 1.2*iaw_max)\n",
    "    ax[1].set_title(\"Ion Acoustic Wave\", fontsize=14)\n",
    "    ax[1].plot(wavelengths.value, Skw)\n",
    "    ax[1].legend(loc='upper left', fontsize=12);\n",
    "\n"
   ]
  },
  {
   "cell_type": "markdown",
   "id": "a790ade9-2c22-48d1-a800-6b0af3bfeac7",
   "metadata": {},
   "source": [
    "Now we can use this function to plot the results"
   ]
  },
  {
   "cell_type": "code",
   "execution_count": null,
   "id": "d3616b30-29de-4971-93b0-13837f0f5cef",
   "metadata": {},
   "outputs": [],
   "source": [
    "plot_result(wavelengths, alpha, Skw)"
   ]
  },
  {
   "cell_type": "markdown",
   "id": "e96bc1df",
   "metadata": {},
   "source": [
    "The spectral density function can also include multiple populations of ions and electrons, each of which can have a separate drift velocity in three dimensions. Here's a more complex example."
   ]
  },
  {
   "cell_type": "code",
   "execution_count": null,
   "id": "e8cebfb9",
   "metadata": {},
   "outputs": [],
   "source": [
    "n = 2e17 * u.cm ** -3\n",
    "\n",
    "efract = np.array([0.5, 0.5])\n",
    "T_e = np.array([20, 6]) * u.eV\n",
    "electron_vel = np.array([[0,0,0], [1000, 0, 0]])*u.km/u.s\n",
    "\n",
    "\n",
    "ifract = np.array([0.2, 0.8])\n",
    "ions = [\"He-4 1+\", \"C-12 5+\"]\n",
    "T_i = np.array([10, 15]) * u.eV\n",
    "ion_vel = np.array([[300,0,0], [-900, 0, 0]])*u.km/u.s\n",
    "\n",
    "alpha, Skw = thomson.spectral_density(\n",
    "    wavelengths,\n",
    "    probe_wavelength,\n",
    "    n,\n",
    "    T_e=T_e,\n",
    "    T_i=T_i,\n",
    "    efract = efract,\n",
    "    ifract = ifract, \n",
    "    ions = ions,\n",
    "    electron_vel=electron_vel,\n",
    "    ion_vel=ion_vel,\n",
    "    probe_vec=probe_vec,\n",
    "    scatter_vec=scatter_vec,\n",
    ")\n",
    "\n",
    "plot_result(wavelengths, alpha, Skw)"
   ]
  },
  {
   "cell_type": "markdown",
   "id": "0adf8796-6cb3-4bd4-ad9f-f70c12a61d67",
   "metadata": {},
   "source": [
    "[spectral density function example notebook]: https://docs.plasmapy.org/en/latest/notebooks/diagnostics/thomson.html\n",
    "For more examples, see the [spectral density function example notebook]. "
   ]
  },
  {
   "cell_type": "markdown",
   "id": "55b5f65e-3e21-465e-9452-dfc1c64ba4a7",
   "metadata": {},
   "source": [
    "# PlasmaPy can also fit Thomson scattering spectra using the `lmfit` module! "
   ]
  },
  {
   "cell_type": "markdown",
   "id": "8b81ae31-d800-43ca-b453-0161d98cb559",
   "metadata": {},
   "source": [
    "[spectral_density_model()]: https://docs.plasmapy.org/en/latest/api/plasmapy.diagnostics.thomson.spectral_density_model.html#plasmapy.diagnostics.thomson.spectral_density_model\n",
    "[Thomson scattering fitting example notebook]: https://docs.plasmapy.org/en/latest/notebooks/diagnostics/thomson_fitting.html\n",
    "\n",
    "See the [spectral_density_model()] and the associated [Thomson scattering fitting example notebook]. "
   ]
  }
 ],
 "metadata": {
  "kernelspec": {
   "display_name": "Python 3 (ipykernel)",
   "language": "python",
   "name": "python3"
  },
  "language_info": {
   "codemirror_mode": {
    "name": "ipython",
    "version": 3
   },
   "file_extension": ".py",
   "mimetype": "text/x-python",
   "name": "python",
   "nbconvert_exporter": "python",
   "pygments_lexer": "ipython3",
   "version": "3.11.5"
  }
 },
 "nbformat": 4,
 "nbformat_minor": 5
}
