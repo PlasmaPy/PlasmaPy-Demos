{
 "cells": [
  {
   "cell_type": "markdown",
   "id": "5b8f9968",
   "metadata": {},
   "source": [
    "# PlasmaPy Tutorial"
   ]
  },
  {
   "cell_type": "markdown",
   "id": "c8c364e5",
   "metadata": {},
   "source": [
    "[`astropy.units`]: https://docs.astropy.org/en/stable/units/index.html\n",
    "[`plasmapy.particles`]: https://docs.plasmapy.org/en/stable/particles/index.html\n",
    "[`plasmapy.formulary`]: https://docs.plasmapy.org/en/stable/formulary/index.html\n",
    "[`plasmapy.dispersion`]: https://docs.plasmapy.org/en/stable/dispersion/index.html\n",
    "\n",
    "Thank you for coming to this interactive tutorial. 🌱 We are excited for you to be here! 😺\n",
    "\n",
    "PlasmaPy is an open source Python package for plasma research and education. We will start off today by reviewing [`astropy.units`] 📏, we'll go through some interactive examples of using [`plasmapy.particles`] ⚛ and [`plasmapy.formulary`] 🧮."
   ]
  },
  {
   "cell_type": "markdown",
   "id": "9a3dc488-e518-4b58-9fcb-2891c2b7e3cd",
   "metadata": {},
   "source": [
    "Let's start with some preliminary imports & settings. To execute a cell in a Jupyter notebook, press `Shift + Enter`.  Let's do that for the next cell.\n",
    "\n",
    "If using Google Colab, click ***Run anyway*** when prompted, and then ***Restart runtime*** when the installation finishes."
   ]
  },
  {
   "cell_type": "code",
   "execution_count": 1,
   "id": "fa326226",
   "metadata": {},
   "outputs": [],
   "source": [
    "import sys\n",
    "\n",
    "if 'google.colab' in str(get_ipython()):\n",
    "    if 'plasmapy' not in sys.modules:\n",
    "        !pip install plasmapy==2024.2.0 requests==2.27.1\n",
    "\n",
    "import numpy as np\n",
    "import astropy.units as u\n",
    "from astropy import constants as const\n",
    "from plasmapy.particles import *\n",
    "from plasmapy.formulary import *"
   ]
  },
  {
   "cell_type": "markdown",
   "id": "6e8f0d92",
   "metadata": {},
   "source": [
    "## Astropy units"
   ]
  },
  {
   "cell_type": "markdown",
   "id": "93658d4f",
   "metadata": {},
   "source": [
    "[`astropy.units`]: https://docs.astropy.org/en/stable/units/index.html\n",
    "\n",
    "PlasmaPy makes heavy use of [`astropy.units`], which is my favorite part of the scientific pythoniverse!  We typically import this subpackage as `u`."
   ]
  },
  {
   "cell_type": "code",
   "execution_count": 2,
   "id": "8c20320a",
   "metadata": {},
   "outputs": [],
   "source": [
    "import astropy.units as u"
   ]
  },
  {
   "cell_type": "markdown",
   "id": "e9ccbb06",
   "metadata": {},
   "source": [
    "We can create a physical quantity by multiplying or dividing a number or array with a unit."
   ]
  },
  {
   "cell_type": "code",
   "execution_count": 3,
   "id": "8437650a",
   "metadata": {},
   "outputs": [
    {
     "data": {
      "text/latex": [
       "$60 \\; \\mathrm{km}$"
      ],
      "text/plain": [
       "<Quantity 60. km>"
      ]
     },
     "execution_count": 3,
     "metadata": {},
     "output_type": "execute_result"
    }
   ],
   "source": [
    "60 * u.km"
   ]
  },
  {
   "cell_type": "markdown",
   "id": "ccc6659f",
   "metadata": {},
   "source": [
    "[`Quantity`]: https://docs.astropy.org/en/stable/api/astropy.units.Quantity.html#astropy.units.Quantity\n",
    "\n",
    "This operation creates a [`Quantity`] object: a number, sequence, or array that has been assigned a physical unit.  We can create [`Quantity`] objects with compound units."
   ]
  },
  {
   "cell_type": "code",
   "execution_count": 4,
   "id": "4932159b",
   "metadata": {},
   "outputs": [
    {
     "name": "stdout",
     "output_type": "stream",
     "text": [
      "88.0 mi / h\n"
     ]
    }
   ],
   "source": [
    "V = 88 * u.imperial.mile / u.hour\n",
    "print(V)"
   ]
  },
  {
   "cell_type": "markdown",
   "id": "a60e9ea9",
   "metadata": {},
   "source": [
    "[physical type]: https://docs.astropy.org/en/stable/units/physical_types.html#physical-types\n",
    "[`Quantity`]: https://docs.astropy.org/en/stable/api/astropy.units.Quantity.html#astropy.units.Quantity\n",
    "\n",
    "Operations between [`Quantity`] objects handle unit conversions automatically. We can add [`Quantity`] objects together as long as their units have the same [physical type]."
   ]
  },
  {
   "cell_type": "code",
   "execution_count": 5,
   "id": "65e08284",
   "metadata": {},
   "outputs": [
    {
     "data": {
      "text/latex": [
       "$1.25 \\; \\mathrm{m}$"
      ],
      "text/plain": [
       "<Quantity 1.25 m>"
      ]
     },
     "execution_count": 5,
     "metadata": {},
     "output_type": "execute_result"
    }
   ],
   "source": [
    "1 * u.m + 25 * u.cm"
   ]
  },
  {
   "cell_type": "markdown",
   "id": "edb43067",
   "metadata": {},
   "source": [
    "Units get handled automatically during operations like multiplication, division, and exponentiation."
   ]
  },
  {
   "cell_type": "code",
   "execution_count": 6,
   "id": "c36788db",
   "metadata": {},
   "outputs": [
    {
     "data": {
      "text/latex": [
       "$8 \\; \\mathrm{m^{3}}$"
      ],
      "text/plain": [
       "<Quantity 8. m3>"
      ]
     },
     "execution_count": 6,
     "metadata": {},
     "output_type": "execute_result"
    }
   ],
   "source": [
    "(2 * u.m) ** 3"
   ]
  },
  {
   "cell_type": "markdown",
   "id": "b910a84b",
   "metadata": {},
   "source": [
    "[`Quantity`]: https://docs.astropy.org/en/stable/api/astropy.units.Quantity.html#astropy.units.Quantity\n",
    "[`to()`]: https://docs.astropy.org/en/stable/api/astropy.units.Quantity.html#astropy.units.Quantity.to\n",
    "\n",
    "The [`to()`] method allows us to convert a [`Quantity`] to different units of the same physical type. This method accepts strings that represent a unit (including compound units) or a unit object."
   ]
  },
  {
   "cell_type": "code",
   "execution_count": 7,
   "id": "80f4f133",
   "metadata": {},
   "outputs": [
    {
     "data": {
      "text/latex": [
       "$39.33952 \\; \\mathrm{\\frac{m}{s}}$"
      ],
      "text/plain": [
       "<Quantity 39.33952 m / s>"
      ]
     },
     "execution_count": 7,
     "metadata": {},
     "output_type": "execute_result"
    }
   ],
   "source": [
    "V.to(\"m/s\")"
   ]
  },
  {
   "cell_type": "code",
   "execution_count": 8,
   "id": "21c46ef1",
   "metadata": {},
   "outputs": [
    {
     "data": {
      "text/latex": [
       "$141.62227 \\; \\mathrm{\\frac{km}{h}}$"
      ],
      "text/plain": [
       "<Quantity 141.622272 km / h>"
      ]
     },
     "execution_count": 8,
     "metadata": {},
     "output_type": "execute_result"
    }
   ],
   "source": [
    "V.to(u.km / u.hr)"
   ]
  },
  {
   "cell_type": "markdown",
   "id": "07c3b9c1",
   "metadata": {},
   "source": [
    "[electron-volt]: https://en.wikipedia.org/wiki/Electronvolt\n",
    "[Boltzmann constant]: https://en.wikipedia.org/wiki/Boltzmann_constant\n",
    "[`astropy.units`]: https://docs.astropy.org/en/stable/units/index.html\n",
    "[equivalencies]: https://docs.astropy.org/en/stable/units/equivalencies.html\n",
    "[`temperature_energy()`]: https://docs.astropy.org/en/stable/units/equivalencies.html#temperature-energy-equivalency\n",
    "\n",
    "Plasma scientists often use the [electron-volt] (eV) as a unit of temperature. This is a shortcut for describing the thermal energy per particle, or more accurately the temperature multiplied by the [Boltzmann constant], $k_B$. \n",
    "\n",
    "Because an electron-volt is a unit of energy rather than temperature, we cannot directly convert electron-volts to kelvin. To handle non-standard unit conversions, [`astropy.units`] allows the use of [equivalencies]. The conversion from eV to K can be done by using the [`temperature_energy()`] equivalency."
   ]
  },
  {
   "cell_type": "code",
   "execution_count": 9,
   "id": "afac5b4a",
   "metadata": {},
   "outputs": [
    {
     "data": {
      "text/latex": [
       "$11604.518 \\; \\mathrm{K}$"
      ],
      "text/plain": [
       "<Quantity 11604.51812155 K>"
      ]
     },
     "execution_count": 9,
     "metadata": {},
     "output_type": "execute_result"
    }
   ],
   "source": [
    "(1 * u.eV).to(\"K\", equivalencies=u.temperature_energy())"
   ]
  },
  {
   "cell_type": "markdown",
   "id": "b714de6a",
   "metadata": {},
   "source": [
    "[`astropy.constants`]: https://docs.astropy.org/en/stable/constants/index.html\n",
    "\n",
    "[`astropy.constants`] provides access to the most commonly needed physical constants."
   ]
  },
  {
   "cell_type": "code",
   "execution_count": 10,
   "id": "746a79a7",
   "metadata": {},
   "outputs": [],
   "source": [
    "import astropy.constants as const"
   ]
  },
  {
   "cell_type": "code",
   "execution_count": 11,
   "id": "9c058f48",
   "metadata": {},
   "outputs": [
    {
     "data": {
      "text/latex": [
       "$2.9979246 \\times 10^{8} \\; \\mathrm{\\frac{m}{s}}$"
      ],
      "text/plain": [
       "<<class 'astropy.constants.codata2018.CODATA2018'> name='Speed of light in vacuum' value=299792458.0 uncertainty=0.0 unit='m / s' reference='CODATA 2018'>"
      ]
     },
     "execution_count": 11,
     "metadata": {},
     "output_type": "execute_result"
    }
   ],
   "source": [
    "const.c"
   ]
  },
  {
   "cell_type": "code",
   "execution_count": 12,
   "id": "44cdd138",
   "metadata": {},
   "outputs": [
    {
     "data": {
      "text/latex": [
       "$9.1093837 \\times 10^{-31} \\; \\mathrm{kg}$"
      ],
      "text/plain": [
       "<<class 'astropy.constants.codata2018.CODATA2018'> name='Electron mass' value=9.1093837015e-31 uncertainty=2.8e-40 unit='kg' reference='CODATA 2018'>"
      ]
     },
     "execution_count": 12,
     "metadata": {},
     "output_type": "execute_result"
    }
   ],
   "source": [
    "const.m_e"
   ]
  },
  {
   "cell_type": "markdown",
   "id": "97a8d49a",
   "metadata": {},
   "source": [
    "## Particles"
   ]
  },
  {
   "cell_type": "markdown",
   "id": "0c7eeced",
   "metadata": {},
   "source": [
    "[`plasmapy.particles`]: https://docs.plasmapy.org/en/stable/particles/index.html\n",
    "\n",
    "The [`plasmapy.particles`] subpackage contains functions to access basic particle data and classes to represent particles."
   ]
  },
  {
   "cell_type": "code",
   "execution_count": 13,
   "id": "24125310",
   "metadata": {},
   "outputs": [],
   "source": [
    "from plasmapy.particles import *"
   ]
  },
  {
   "cell_type": "markdown",
   "id": "e224284a",
   "metadata": {},
   "source": [
    "### Particle properties"
   ]
  },
  {
   "cell_type": "markdown",
   "id": "7696deba",
   "metadata": {},
   "source": [
    "[representation of a particle]: https://docs.plasmapy.org/en/stable/api/plasmapy.particles.ParticleLike.html#particlelike\n",
    "\n",
    "There are several functions that provide information about different particles that might be present in a plasma. The input of these functions is a [representation of a particle], such as a string for the atomic symbol or the element name."
   ]
  },
  {
   "cell_type": "code",
   "execution_count": 14,
   "id": "006b8d3e",
   "metadata": {},
   "outputs": [
    {
     "data": {
      "text/plain": [
       "26"
      ]
     },
     "execution_count": 14,
     "metadata": {},
     "output_type": "execute_result"
    }
   ],
   "source": [
    "atomic_number(\"Fe\")"
   ]
  },
  {
   "cell_type": "markdown",
   "id": "2aa5af34",
   "metadata": {},
   "source": [
    "[atomic number]: https://en.wikipedia.org/wiki/Atomic_number\n",
    "\n",
    "We can provide a number that represents the [atomic number]."
   ]
  },
  {
   "cell_type": "code",
   "execution_count": 15,
   "id": "69958326",
   "metadata": {},
   "outputs": [
    {
     "data": {
      "text/plain": [
       "'iron'"
      ]
     },
     "execution_count": 15,
     "metadata": {},
     "output_type": "execute_result"
    }
   ],
   "source": [
    "element_name(26)"
   ]
  },
  {
   "cell_type": "markdown",
   "id": "cca89cef",
   "metadata": {},
   "source": [
    "We can provide standard symbols or the names of particles."
   ]
  },
  {
   "cell_type": "code",
   "execution_count": 16,
   "id": "16ca5b6f",
   "metadata": {},
   "outputs": [
    {
     "data": {
      "text/plain": [
       "True"
      ]
     },
     "execution_count": 16,
     "metadata": {},
     "output_type": "execute_result"
    }
   ],
   "source": [
    "is_stable(\"e-\")"
   ]
  },
  {
   "cell_type": "code",
   "execution_count": 17,
   "id": "35d8e49e",
   "metadata": {},
   "outputs": [
    {
     "data": {
      "text/plain": [
       "1"
      ]
     },
     "execution_count": 17,
     "metadata": {},
     "output_type": "execute_result"
    }
   ],
   "source": [
    "charge_number(\"proton\")"
   ]
  },
  {
   "cell_type": "markdown",
   "id": "8f2e5b30",
   "metadata": {},
   "source": [
    "[mass number]: https://en.wikipedia.org/wiki/Mass_number\n",
    "[`Quantity`]: https://docs.astropy.org/en/stable/units/quantity.html#quantity\n",
    "[`astropy.units`]: https://docs.astropy.org/en/stable/units/index.html\n",
    "[`half_life`]: https://docs.plasmapy.org/en/stable/api/plasmapy.particles.atomic.half_life.html#half-life\n",
    "\n",
    "We can represent isotopes with the atomic symbol followed by a hyphen and the [mass number]. Let's use [`half_life`] to return the half-life of a radioactive particle in seconds as a [`Quantity`]."
   ]
  },
  {
   "cell_type": "code",
   "execution_count": 18,
   "id": "94fcf452",
   "metadata": {},
   "outputs": [
    {
     "data": {
      "text/latex": [
       "$1.8082505 \\times 10^{11} \\; \\mathrm{s}$"
      ],
      "text/plain": [
       "<Quantity 1.80825048e+11 s>"
      ]
     },
     "execution_count": 18,
     "metadata": {},
     "output_type": "execute_result"
    }
   ],
   "source": [
    "half_life(\"C-14\")"
   ]
  },
  {
   "cell_type": "markdown",
   "id": "58ab7782",
   "metadata": {},
   "source": [
    "We typically represent an ion in a string by putting together the atomic symbol or isotope symbol, a space, the charge number, and the sign of the charge."
   ]
  },
  {
   "cell_type": "code",
   "execution_count": 19,
   "id": "a65e15da",
   "metadata": {},
   "outputs": [
    {
     "data": {
      "text/plain": [
       "13"
      ]
     },
     "execution_count": 19,
     "metadata": {},
     "output_type": "execute_result"
    }
   ],
   "source": [
    "charge_number(\"Fe-56 13+\")"
   ]
  },
  {
   "cell_type": "markdown",
   "id": "ce4886cf",
   "metadata": {},
   "source": [
    "[particle-like]: https://docs.plasmapy.org/en/latest/glossary.html#term-particle-like\n",
    "[`plasmapy.particles`]: https://docs.plasmapy.org/en/stable/particles/index.html\n",
    "\n",
    "Functions in [`plasmapy.particles`] are quite flexible in terms of string inputs representing particles. An input is [particle-like] if it can be used to represent a physical particle.  "
   ]
  },
  {
   "cell_type": "code",
   "execution_count": 20,
   "id": "05e03a8b",
   "metadata": {},
   "outputs": [
    {
     "data": {
      "text/latex": [
       "$9.2870305 \\times 10^{-26} \\; \\mathrm{kg}$"
      ],
      "text/plain": [
       "<Quantity 9.28703048e-26 kg>"
      ]
     },
     "execution_count": 20,
     "metadata": {},
     "output_type": "execute_result"
    }
   ],
   "source": [
    "particle_mass(\"iron-56 +13\")"
   ]
  },
  {
   "cell_type": "code",
   "execution_count": 21,
   "id": "0dd9541b",
   "metadata": {},
   "outputs": [
    {
     "data": {
      "text/latex": [
       "$9.2870305 \\times 10^{-26} \\; \\mathrm{kg}$"
      ],
      "text/plain": [
       "<Quantity 9.28703048e-26 kg>"
      ]
     },
     "execution_count": 21,
     "metadata": {},
     "output_type": "execute_result"
    }
   ],
   "source": [
    "particle_mass(\"iron-56+++++++++++++\")"
   ]
  },
  {
   "cell_type": "markdown",
   "id": "d3adf3a6",
   "metadata": {},
   "source": [
    "Most of these functions take additional arguments, with `Z` representing the charge number of an ion and `mass_numb` representing the mass number of an isotope. These arguments are often [keyword-only](https://docs.plasmapy.org/en/latest/glossary.html#term-keyword-only) to avoid ambiguity."
   ]
  },
  {
   "cell_type": "code",
   "execution_count": 22,
   "id": "61e0f960",
   "metadata": {},
   "outputs": [
    {
     "data": {
      "text/latex": [
       "$9.2870305 \\times 10^{-26} \\; \\mathrm{kg}$"
      ],
      "text/plain": [
       "<Quantity 9.28703048e-26 kg>"
      ]
     },
     "execution_count": 22,
     "metadata": {},
     "output_type": "execute_result"
    }
   ],
   "source": [
    "particle_mass(\"Fe\", Z=13, mass_numb=56)"
   ]
  },
  {
   "cell_type": "markdown",
   "id": "53a1d993",
   "metadata": {},
   "source": [
    "### Particle objects"
   ]
  },
  {
   "cell_type": "markdown",
   "id": "3c2c3835",
   "metadata": {},
   "source": [
    "[`Particle`]: https://docs.plasmapy.org/en/stable/api/plasmapy.particles.particle_class.Particle.html#plasmapy.particles.particle_class.Particle\n",
    "\n",
    "Up until now, we have been using functions that accept representations of particles and then return particle properties. With the [`Particle`] class, we can create objects that represent physical particles."
   ]
  },
  {
   "cell_type": "code",
   "execution_count": 23,
   "id": "fe9f824a",
   "metadata": {},
   "outputs": [],
   "source": [
    "proton = Particle(\"p+\")\n",
    "electron = Particle(\"electron\")\n",
    "iron56_nuclide = Particle(\"Fe\", Z=26, mass_numb=56)"
   ]
  },
  {
   "cell_type": "markdown",
   "id": "160df55b",
   "metadata": {},
   "source": [
    "[`Particle`]: https://docs.plasmapy.org/en/stable/api/plasmapy.particles.particle_class.Particle.html#plasmapy.particles.particle_class.Particle\n",
    "\n",
    "Particle properties can be accessed via attributes of the [`Particle`] class."
   ]
  },
  {
   "cell_type": "code",
   "execution_count": 24,
   "id": "bebcc477",
   "metadata": {},
   "outputs": [
    {
     "data": {
      "text/latex": [
       "$1.6726219 \\times 10^{-27} \\; \\mathrm{kg}$"
      ],
      "text/plain": [
       "<Quantity 1.67262192e-27 kg>"
      ]
     },
     "execution_count": 24,
     "metadata": {},
     "output_type": "execute_result"
    }
   ],
   "source": [
    "proton.mass"
   ]
  },
  {
   "cell_type": "code",
   "execution_count": 25,
   "id": "df0f2eed",
   "metadata": {},
   "outputs": [
    {
     "data": {
      "text/latex": [
       "$-1.6021766 \\times 10^{-19} \\; \\mathrm{C}$"
      ],
      "text/plain": [
       "<Quantity -1.60217663e-19 C>"
      ]
     },
     "execution_count": 25,
     "metadata": {},
     "output_type": "execute_result"
    }
   ],
   "source": [
    "electron.charge"
   ]
  },
  {
   "cell_type": "code",
   "execution_count": 26,
   "id": "116cd6ad",
   "metadata": {},
   "outputs": [
    {
     "data": {
      "text/plain": [
       "-1"
      ]
     },
     "execution_count": 26,
     "metadata": {},
     "output_type": "execute_result"
    }
   ],
   "source": [
    "electron.charge_number"
   ]
  },
  {
   "cell_type": "code",
   "execution_count": 27,
   "id": "99d22bd3",
   "metadata": {},
   "outputs": [
    {
     "data": {
      "text/latex": [
       "$7.8868678 \\times 10^{-11} \\; \\mathrm{J}$"
      ],
      "text/plain": [
       "<Quantity 7.88686781e-11 J>"
      ]
     },
     "execution_count": 27,
     "metadata": {},
     "output_type": "execute_result"
    }
   ],
   "source": [
    "iron56_nuclide.binding_energy"
   ]
  },
  {
   "cell_type": "markdown",
   "id": "bf9f9291-eece-4a12-98dd-795d1edc3413",
   "metadata": {},
   "source": [
    "[`CustomParticle`]: https://docs.plasmapy.org/en/stable/api/plasmapy.particles.particle_class.CustomParticle.html\n",
    "[`Particle`]: https://docs.plasmapy.org/en/stable/api/plasmapy.particles.particle_class.Particle.html\n",
    "\n",
    "If we want to create a particle with an arbitrary charge and mass, then we can create a [`CustomParticle`] object that behaves similarly to a [`Particle`]."
   ]
  },
  {
   "cell_type": "markdown",
   "id": "0f2b0634",
   "metadata": {},
   "source": [
    "### Particle lists"
   ]
  },
  {
   "cell_type": "markdown",
   "id": "7939cfad",
   "metadata": {},
   "source": [
    "[`ParticleList`]: https://docs.plasmapy.org/en/stable/api/plasmapy.particles.particle_collections.ParticleList.html\n",
    "\n",
    "The [`ParticleList`] class is a container for particle objects."
   ]
  },
  {
   "cell_type": "code",
   "execution_count": 28,
   "id": "30cc7d36",
   "metadata": {},
   "outputs": [],
   "source": [
    "iron_ions = ParticleList([\"Fe 12+\", \"Fe 13+\", \"Fe 14+\"])"
   ]
  },
  {
   "cell_type": "markdown",
   "id": "d56ddb98",
   "metadata": {},
   "source": [
    "[`ParticleList`]: https://docs.plasmapy.org/en/stable/api/plasmapy.particles.particle_collections.ParticleList.html\n",
    "\n",
    "By using a [`ParticleList`], we can access the properties of multiple particles at once."
   ]
  },
  {
   "cell_type": "code",
   "execution_count": 29,
   "id": "2434f71b",
   "metadata": {},
   "outputs": [
    {
     "data": {
      "text/latex": [
       "$[9.2721873 \\times 10^{-26},~9.2720962 \\times 10^{-26},~9.2720051 \\times 10^{-26}] \\; \\mathrm{kg}$"
      ],
      "text/plain": [
       "<Quantity [9.27218729e-26, 9.27209620e-26, 9.27200510e-26] kg>"
      ]
     },
     "execution_count": 29,
     "metadata": {},
     "output_type": "execute_result"
    }
   ],
   "source": [
    "iron_ions.mass"
   ]
  },
  {
   "cell_type": "code",
   "execution_count": 30,
   "id": "14a431dd",
   "metadata": {},
   "outputs": [
    {
     "data": {
      "text/latex": [
       "$[1.922612 \\times 10^{-18},~2.0828296 \\times 10^{-18},~2.2430473 \\times 10^{-18}] \\; \\mathrm{C}$"
      ],
      "text/plain": [
       "<Quantity [1.92261196e-18, 2.08282962e-18, 2.24304729e-18] C>"
      ]
     },
     "execution_count": 30,
     "metadata": {},
     "output_type": "execute_result"
    }
   ],
   "source": [
    "iron_ions.charge"
   ]
  },
  {
   "cell_type": "code",
   "execution_count": 31,
   "id": "48cd1c7a",
   "metadata": {},
   "outputs": [
    {
     "data": {
      "text/plain": [
       "['Fe 12+', 'Fe 13+', 'Fe 14+']"
      ]
     },
     "execution_count": 31,
     "metadata": {},
     "output_type": "execute_result"
    }
   ],
   "source": [
    "iron_ions.symbols"
   ]
  },
  {
   "cell_type": "markdown",
   "id": "cccc6c60",
   "metadata": {},
   "source": [
    "[`ParticleList`]: https://docs.plasmapy.org/en/stable/api/plasmapy.particles.particle_collections.ParticleList.html\n",
    "[`CustomParticle`]: https://docs.plasmapy.org/en/stable/api/plasmapy.particles.particle_class.CustomParticle.html\n",
    "[`Particle`]: https://docs.plasmapy.org/en/stable/api/plasmapy.particles.particle_class.Particle.html\n",
    "\n",
    "We can create a [`ParticleList`] by adding [`Particle`] and/or [`CustomParticle`] objects together."
   ]
  },
  {
   "cell_type": "code",
   "execution_count": 32,
   "id": "3b953065",
   "metadata": {},
   "outputs": [
    {
     "data": {
      "text/plain": [
       "ParticleList(['p+', 'e-'])"
      ]
     },
     "execution_count": 32,
     "metadata": {},
     "output_type": "execute_result"
    }
   ],
   "source": [
    "proton + electron"
   ]
  },
  {
   "cell_type": "markdown",
   "id": "b78ee7d2",
   "metadata": {},
   "source": [
    "We can get an average particle."
   ]
  },
  {
   "cell_type": "code",
   "execution_count": 33,
   "id": "bf01f619",
   "metadata": {},
   "outputs": [
    {
     "data": {
      "text/plain": [
       "CustomParticle(mass=9.272096197546505e-26 kg, charge=2.0828296241999997e-18 C)"
      ]
     },
     "execution_count": 33,
     "metadata": {},
     "output_type": "execute_result"
    }
   ],
   "source": [
    "iron_ions.average_particle()"
   ]
  },
  {
   "cell_type": "markdown",
   "id": "e9038618",
   "metadata": {},
   "source": [
    "[`ParticleList`]: https://docs.plasmapy.org/en/stable/api/plasmapy.particles.particle_collections.ParticleList.html\n",
    "[`plasmapy.formulary`]: https://docs.plasmapy.org/en/stable/formulary/index.html\n",
    "\n",
    "[`ParticleList`] objects can be provided to the most commonly used functions in [`plasmapy.formulary`]."
   ]
  },
  {
   "cell_type": "markdown",
   "id": "efe199c8",
   "metadata": {},
   "source": [
    "### Nuclear reactions"
   ]
  },
  {
   "cell_type": "markdown",
   "id": "58fb006b",
   "metadata": {},
   "source": [
    "[`plasmapy.particles`]: https://docs.plasmapy.org/en/stable/particles/index.html\n",
    "\n",
    "We can use [`plasmapy.particles`] to calculate the energy of a nuclear reaction using the `>` operator.  "
   ]
  },
  {
   "cell_type": "code",
   "execution_count": 34,
   "id": "d8a9ab9e",
   "metadata": {},
   "outputs": [],
   "source": [
    "deuteron = Particle(\"D+\")\n",
    "triton = Particle(\"T+\")\n",
    "alpha = Particle(\"α\")\n",
    "neutron = Particle(\"n\")"
   ]
  },
  {
   "cell_type": "code",
   "execution_count": 35,
   "id": "cb95c644",
   "metadata": {},
   "outputs": [],
   "source": [
    "energy = deuteron + triton > alpha + neutron"
   ]
  },
  {
   "cell_type": "code",
   "execution_count": 36,
   "id": "e7a4c236",
   "metadata": {},
   "outputs": [
    {
     "data": {
      "text/latex": [
       "$17.589253 \\; \\mathrm{MeV}$"
      ],
      "text/plain": [
       "<Quantity 17.58925276 MeV>"
      ]
     },
     "execution_count": 36,
     "metadata": {},
     "output_type": "execute_result"
    }
   ],
   "source": [
    "energy.to(\"MeV\")"
   ]
  },
  {
   "cell_type": "markdown",
   "id": "8bf7e515",
   "metadata": {},
   "source": [
    "If the nuclear reaction is invalid, then an exception is raised that states the reason why."
   ]
  },
  {
   "cell_type": "code",
   "execution_count": 37,
   "id": "67b32a3a",
   "metadata": {
    "tags": [
     "raises-exception"
    ]
   },
   "outputs": [
    {
     "ename": "ParticleError",
     "evalue": "The baryon number is not conserved for reactants = [Particle(\"D 1+\"), Particle(\"T 1+\")] and products = [Particle(\"He-4 2+\"), Particle(\"n\"), Particle(\"n\"), Particle(\"n\")].",
     "output_type": "error",
     "traceback": [
      "\u001b[0;31m---------------------------------------------------------------------------\u001b[0m",
      "\u001b[0;31mParticleError\u001b[0m                             Traceback (most recent call last)",
      "Cell \u001b[0;32mIn[37], line 1\u001b[0m\n\u001b[0;32m----> 1\u001b[0m \u001b[43mdeuteron\u001b[49m\u001b[43m \u001b[49m\u001b[38;5;241;43m+\u001b[39;49m\u001b[43m \u001b[49m\u001b[43mtriton\u001b[49m\u001b[43m \u001b[49m\u001b[38;5;241;43m>\u001b[39;49m\u001b[43m \u001b[49m\u001b[43malpha\u001b[49m\u001b[43m \u001b[49m\u001b[38;5;241;43m+\u001b[39;49m\u001b[43m \u001b[49m\u001b[38;5;241;43m3\u001b[39;49m\u001b[43m \u001b[49m\u001b[38;5;241;43m*\u001b[39;49m\u001b[43m \u001b[49m\u001b[43mneutron\u001b[49m\n",
      "File \u001b[0;32m/run/media/namurphy/d423d80e-c227-4a33-b50f-545b44160ce3/namurphy/Projects/PlasmaPy/plasmapy/particles/particle_collections.py:229\u001b[0m, in \u001b[0;36mParticleList.__gt__\u001b[0;34m(self, other)\u001b[0m\n\u001b[1;32m    226\u001b[0m \u001b[38;5;28;01mfrom\u001b[39;00m \u001b[38;5;21;01mplasmapy\u001b[39;00m\u001b[38;5;21;01m.\u001b[39;00m\u001b[38;5;21;01mparticles\u001b[39;00m\u001b[38;5;21;01m.\u001b[39;00m\u001b[38;5;21;01mnuclear\u001b[39;00m \u001b[38;5;28;01mimport\u001b[39;00m nuclear_reaction_energy\n\u001b[1;32m    228\u001b[0m other_as_particle_list \u001b[38;5;241m=\u001b[39m \u001b[38;5;28mself\u001b[39m\u001b[38;5;241m.\u001b[39m_cast_other_as_particle_list(other)\n\u001b[0;32m--> 229\u001b[0m \u001b[38;5;28;01mreturn\u001b[39;00m \u001b[43mnuclear_reaction_energy\u001b[49m\u001b[43m(\u001b[49m\n\u001b[1;32m    230\u001b[0m \u001b[43m    \u001b[49m\u001b[43mreactants\u001b[49m\u001b[38;5;241;43m=\u001b[39;49m\u001b[38;5;28;43mself\u001b[39;49m\u001b[38;5;241;43m.\u001b[39;49m\u001b[43msymbols\u001b[49m\u001b[43m,\u001b[49m\u001b[43m \u001b[49m\u001b[43mproducts\u001b[49m\u001b[38;5;241;43m=\u001b[39;49m\u001b[43mother_as_particle_list\u001b[49m\u001b[38;5;241;43m.\u001b[39;49m\u001b[43msymbols\u001b[49m\n\u001b[1;32m    231\u001b[0m \u001b[43m\u001b[49m\u001b[43m)\u001b[49m\n",
      "File \u001b[0;32m/run/media/namurphy/d423d80e-c227-4a33-b50f-545b44160ce3/namurphy/Projects/PlasmaPy/plasmapy/particles/nuclear.py:311\u001b[0m, in \u001b[0;36mnuclear_reaction_energy\u001b[0;34m(*args, **kwargs)\u001b[0m\n\u001b[1;32m    308\u001b[0m         \u001b[38;5;28;01mraise\u001b[39;00m ParticleError(errmsg) \u001b[38;5;28;01mfrom\u001b[39;00m \u001b[38;5;21;01me\u001b[39;00m\n\u001b[1;32m    310\u001b[0m \u001b[38;5;28;01mif\u001b[39;00m total_baryon_number(reactants) \u001b[38;5;241m!=\u001b[39m total_baryon_number(products):\n\u001b[0;32m--> 311\u001b[0m     \u001b[38;5;28;01mraise\u001b[39;00m ParticleError(\n\u001b[1;32m    312\u001b[0m         \u001b[38;5;124mf\u001b[39m\u001b[38;5;124m\"\u001b[39m\u001b[38;5;124mThe baryon number is not conserved for \u001b[39m\u001b[38;5;132;01m{\u001b[39;00mreactants\u001b[38;5;250m \u001b[39m\u001b[38;5;132;01m= }\u001b[39;00m\u001b[38;5;124m and \u001b[39m\u001b[38;5;132;01m{\u001b[39;00mproducts\u001b[38;5;250m \u001b[39m\u001b[38;5;132;01m= }\u001b[39;00m\u001b[38;5;124m.\u001b[39m\u001b[38;5;124m\"\u001b[39m\n\u001b[1;32m    313\u001b[0m     )\n\u001b[1;32m    315\u001b[0m \u001b[38;5;28;01mif\u001b[39;00m total_charge(reactants) \u001b[38;5;241m!=\u001b[39m total_charge(products):\n\u001b[1;32m    316\u001b[0m     \u001b[38;5;28;01mraise\u001b[39;00m ParticleError(\n\u001b[1;32m    317\u001b[0m         \u001b[38;5;124mf\u001b[39m\u001b[38;5;124m\"\u001b[39m\u001b[38;5;124mTotal charge is not conserved for \u001b[39m\u001b[38;5;132;01m{\u001b[39;00mreactants\u001b[38;5;250m \u001b[39m\u001b[38;5;132;01m= }\u001b[39;00m\u001b[38;5;124m and \u001b[39m\u001b[38;5;132;01m{\u001b[39;00mproducts\u001b[38;5;250m \u001b[39m\u001b[38;5;132;01m= }\u001b[39;00m\u001b[38;5;124m.\u001b[39m\u001b[38;5;124m\"\u001b[39m\n\u001b[1;32m    318\u001b[0m     )\n",
      "\u001b[0;31mParticleError\u001b[0m: The baryon number is not conserved for reactants = [Particle(\"D 1+\"), Particle(\"T 1+\")] and products = [Particle(\"He-4 2+\"), Particle(\"n\"), Particle(\"n\"), Particle(\"n\")]."
     ]
    }
   ],
   "source": [
    "deuteron + triton > alpha + 3 * neutron"
   ]
  },
  {
   "cell_type": "markdown",
   "id": "f065a288",
   "metadata": {},
   "source": [
    "## PlasmaPy formulary\n",
    "\n",
    "[`plasmapy.formulary`]: https://docs.plasmapy.org/en/stable/formulary/index.html\n",
    "\n",
    "The [`plasmapy.formulary`] subpackage contains a broad variety of formulas needed by plasma scientists across disciplines, in particular to calculate plasma parameters."
   ]
  },
  {
   "cell_type": "code",
   "execution_count": 38,
   "id": "20c3b9b1",
   "metadata": {},
   "outputs": [],
   "source": [
    "from plasmapy.formulary import *"
   ]
  },
  {
   "cell_type": "markdown",
   "id": "dee08605",
   "metadata": {},
   "source": [
    "### Plasma parameters in Earth's magnetosphere"
   ]
  },
  {
   "cell_type": "markdown",
   "id": "9587734f",
   "metadata": {},
   "source": [
    "[magnetic reconnection]: https://en.wikipedia.org/wiki/Magnetic_reconnection\n",
    "[`plasmapy.formulary`]: https://docs.plasmapy.org/en/stable/formulary/index.html\n",
    "\n",
    "The [*Magnetospheric Multiscale Mission*](https://www.nasa.gov/mission_pages/mms/overview/index.html) (*MMS*) is a constellation of four identical spacecraft. The goal of *MMS* is to investigate the small-scale physics of [magnetic reconnection] in Earth's magnetosphere. In order to do this, the spacecraft need to orbit in a tight configuration.  But how tight does the tetrahedron have to be?  Let's use [`plasmapy.formulary`] to find out."
   ]
  },
  {
   "cell_type": "markdown",
   "id": "706818eb",
   "metadata": {},
   "source": [
    "#### Physics background"
   ]
  },
  {
   "cell_type": "markdown",
   "id": "e7f1ddf9",
   "metadata": {},
   "source": [
    "[Magnetic reconnection]: https://en.wikipedia.org/wiki/Magnetic_reconnection\n",
    "\n",
    "[Magnetic reconnection] is the fundamental plasma process that converts stored magnetic energy into kinetic energy, thermal energy, and particle acceleration. Reconnection powers solar flares and is a key component of geomagnetic storms in Earth's magnetosphere. Reconnection can degrade confinement in fusion devices such as tokamaks.\n",
    "\n",
    "The **inertial length** is the characteristic length scale for a particle to get accelerated or decelerated by electromagnetic forces in a plasma.\n",
    "\n",
    "When the reconnection layer thickness is shorter than the **ion inertial length**, $d_i ≡ c/ω_{pi}$, collisionless effects and the Hall effect enable reconnection to be fast (Zweibel & Yamada 2009). The inner electron diffusion region has a thickness of about the **electron inertial length**, $d_e ≡ c/ω_{pi}$. (Here, $ω_{pi}$ and $ω_{pe}$ are the ion and electron plasma frequencies.)\n",
    "\n",
    "**Our goal: calculate $d_i$ and $d_e$ to get an idea of how far the MMS spacecraft should be separated from each other to investigate reconnection.**"
   ]
  },
  {
   "cell_type": "markdown",
   "id": "749fba51",
   "metadata": {},
   "source": [
    "### Length scales"
   ]
  },
  {
   "cell_type": "markdown",
   "id": "9db83228",
   "metadata": {},
   "source": [
    "Let's choose some characteristic plasma parameters for the magnetosphere."
   ]
  },
  {
   "cell_type": "code",
   "execution_count": 39,
   "id": "1f317f40",
   "metadata": {},
   "outputs": [],
   "source": [
    "n = 1 * u.cm ** -3\n",
    "B = 5 * u.nT\n",
    "T = 10 ** 4.5 * u.K"
   ]
  },
  {
   "cell_type": "markdown",
   "id": "591bef20",
   "metadata": {},
   "source": [
    "Let's calculate the ion inertial length, $d_i$. On length scales shorter than $d_i$, the Hall effect becomes important as the ions and electrons decouple from each other."
   ]
  },
  {
   "cell_type": "code",
   "execution_count": 40,
   "id": "a717c75f",
   "metadata": {},
   "outputs": [
    {
     "data": {
      "text/latex": [
       "$227.71077 \\; \\mathrm{km}$"
      ],
      "text/plain": [
       "<Quantity 227.71076725 km>"
      ]
     },
     "execution_count": 40,
     "metadata": {},
     "output_type": "execute_result"
    }
   ],
   "source": [
    "inertial_length(n=n, particle=\"p+\").to(\"km\")"
   ]
  },
  {
   "cell_type": "markdown",
   "id": "5c56977f",
   "metadata": {},
   "source": [
    "The ion diffusion regions should therefore be a few hundred kilometers thick. Let's calculate the electron inertial length next."
   ]
  },
  {
   "cell_type": "code",
   "execution_count": 41,
   "id": "4e5a4dd9",
   "metadata": {},
   "outputs": [
    {
     "data": {
      "text/latex": [
       "$5.3140933 \\; \\mathrm{km}$"
      ],
      "text/plain": [
       "<Quantity 5.31409326 km>"
      ]
     },
     "execution_count": 41,
     "metadata": {},
     "output_type": "execute_result"
    }
   ],
   "source": [
    "inertial_length(n=n, particle=\"e-\").to(\"km\")"
   ]
  },
  {
   "cell_type": "markdown",
   "id": "bb4b8d8d",
   "metadata": {},
   "source": [
    "The electron diffusion region should therefore have a characteristic length scale of a few kilometers, which is significantly smaller than the ion diffusion region."
   ]
  },
  {
   "cell_type": "markdown",
   "id": "2b2875fc",
   "metadata": {},
   "source": [
    "Let's calculate the gyroradii for different particles."
   ]
  },
  {
   "cell_type": "code",
   "execution_count": 42,
   "id": "96fee1ef",
   "metadata": {},
   "outputs": [
    {
     "data": {
      "text/latex": [
       "$[1.1133278,~47.706234] \\; \\mathrm{km}$"
      ],
      "text/plain": [
       "<Quantity [ 1.1133278 , 47.70623408] km>"
      ]
     },
     "execution_count": 42,
     "metadata": {},
     "output_type": "execute_result"
    }
   ],
   "source": [
    "gyroradius(B=B, particle=[\"e-\", \"p+\"], T=T).to(\"km\")"
   ]
  },
  {
   "cell_type": "markdown",
   "id": "1b2b32b3",
   "metadata": {},
   "source": [
    "The four *MMS* spacecraft have separations of ten to hundreds of kilometers, and thus are well-positioned to investigate Hall physics during reconnection in the magnetosphere."
   ]
  },
  {
   "cell_type": "markdown",
   "id": "38e1aff3",
   "metadata": {},
   "source": [
    "#### Frequencies"
   ]
  },
  {
   "cell_type": "markdown",
   "id": "fc1a183f",
   "metadata": {},
   "source": [
    "Let's calculate some of the fundamental frequencies associated with magnetospheric plasma. "
   ]
  },
  {
   "cell_type": "code",
   "execution_count": 43,
   "id": "4b9f9403",
   "metadata": {},
   "outputs": [
    {
     "data": {
      "text/latex": [
       "$[1316.5493,~56414.602] \\; \\mathrm{\\frac{rad}{s}}$"
      ],
      "text/plain": [
       "<Quantity [ 1316.54932976, 56414.60231181] rad / s>"
      ]
     },
     "execution_count": 43,
     "metadata": {},
     "output_type": "execute_result"
    }
   ],
   "source": [
    "plasma_frequency(n=n, particle=[\"p+\", \"e-\"])"
   ]
  },
  {
   "cell_type": "code",
   "execution_count": 44,
   "id": "5cc9c0ca",
   "metadata": {},
   "outputs": [
    {
     "data": {
      "text/latex": [
       "$[0.47894166,~879.41001] \\; \\mathrm{\\frac{rad}{s}}$"
      ],
      "text/plain": [
       "<Quantity [4.78941658e-01, 8.79410005e+02] rad / s>"
      ]
     },
     "execution_count": 44,
     "metadata": {},
     "output_type": "execute_result"
    }
   ],
   "source": [
    "gyrofrequency(B=B, particle=[\"p+\", \"e-\"])"
   ]
  },
  {
   "cell_type": "markdown",
   "id": "04bf2ba1-c580-4ca5-b410-530ad3b4e31a",
   "metadata": {},
   "source": [
    "## Final thoughts"
   ]
  },
  {
   "cell_type": "markdown",
   "id": "35962f6d-4897-4195-940d-990f36c313b3",
   "metadata": {},
   "source": [
    "[PlasmaPy's online documentation]: https://docs.plasmapy.org\n",
    "[contributor guide]: https://docs.plasmapy.org/en/latest/contributing\n",
    "[getting ready to contribute]: https://docs.plasmapy.org/en/latest/contributing/getting_ready.html\n",
    "[code contribution workflow]: https://docs.plasmapy.org/en/latest/contributing/workflow.html\n",
    "[good first issues]: https://github.com/PlasmaPy/PlasmaPy/issues?q=is%3Aissue+is%3Aopen+label%3A%22good+first+issue%22\n",
    "[raise an issue]: https://github.com/PlasmaPy/PlasmaPy/issues/new/choose \n",
    "\n",
    "If you'd like to learn more about PlasmaPy's current capabilities, please check out [PlasmaPy's online documentation].\n",
    "\n",
    "PlasmaPy is a community-developed project, and we invite you to contribute!  Please check out our [contributor guide] to learn more, including the pages on [getting ready to contribute] and the [code contribution workflow].  We've also labeled [good first issues] for new contributors.  Possibilities include improving the documentation for a plasma parameter or adding a new example Jupyter notebook.  \n",
    "\n",
    "If there is a feature that you would really like added to PlasmaPy, or if you find a bug or a place that the docs could be improved, please [raise an issue]!  We deeply appreciate it, and doing so helps guide the future of the project."
   ]
  }
 ],
 "metadata": {
  "celltoolbar": "Tags",
  "kernelspec": {
   "display_name": "Python 3 (ipykernel)",
   "language": "python",
   "name": "python3"
  },
  "language_info": {
   "codemirror_mode": {
    "name": "ipython",
    "version": 3
   },
   "file_extension": ".py",
   "mimetype": "text/x-python",
   "name": "python",
   "nbconvert_exporter": "python",
   "pygments_lexer": "ipython3",
   "version": "3.11.4"
  },
  "widgets": {
   "application/vnd.jupyter.widget-state+json": {
    "state": {},
    "version_major": 2,
    "version_minor": 0
   }
  }
 },
 "nbformat": 4,
 "nbformat_minor": 5
}
